{
 "cells": [
  {
   "cell_type": "markdown",
   "metadata": {},
   "source": [
    "# Examining Racial Discrimination in the US Job Market\n",
    "\n",
    "### Background\n",
    "Racial discrimination continues to be pervasive in cultures throughout the world. Researchers examined the level of racial discrimination in the United States labor market by randomly assigning identical résumés to black-sounding or white-sounding names and observing the impact on requests for interviews from employers.\n",
    "\n",
    "### Data\n",
    "In the dataset provided, each row represents a resume. The 'race' column has two values, 'b' and 'w', indicating black-sounding and white-sounding. The column 'call' has two values, 1 and 0, indicating whether the resume received a call from employers or not.\n",
    "\n",
    "Note that the 'b' and 'w' values in race are assigned randomly to the resumes when presented to the employer."
   ]
  },
  {
   "cell_type": "markdown",
   "metadata": {},
   "source": [
    "### Exercises\n",
    "You will perform a statistical analysis to establish whether race has a significant impact on the rate of callbacks for resumes.\n",
    "\n",
    "Answer the following questions **in this notebook below and submit to your Github account**. \n",
    "\n",
    "   1. What test is appropriate for this problem? Does CLT apply?\n",
    "   2. What are the null and alternate hypotheses?\n",
    "   3. Compute margin of error, confidence interval, and p-value.\n",
    "   4. Write a story describing the statistical significance in the context or the original problem.\n",
    "   5. Does your analysis mean that race/name is the most important factor in callback success? Why or why not? If not, how would you amend your analysis?\n",
    "\n",
    "You can include written notes in notebook cells using Markdown: \n",
    "   - In the control panel at the top, choose Cell > Cell Type > Markdown\n",
    "   - Markdown syntax: http://nestacms.com/docs/creating-content/markdown-cheat-sheet\n",
    "\n",
    "\n",
    "#### Resources\n",
    "+ Experiment information and data source: http://www.povertyactionlab.org/evaluation/discrimination-job-market-united-states\n",
    "+ Scipy statistical methods: http://docs.scipy.org/doc/scipy/reference/stats.html \n",
    "+ Markdown syntax: http://nestacms.com/docs/creating-content/markdown-cheat-sheet\n",
    "****"
   ]
  },
  {
   "cell_type": "markdown",
   "metadata": {},
   "source": [
    "#### Import the libs"
   ]
  },
  {
   "cell_type": "code",
   "execution_count": 50,
   "metadata": {},
   "outputs": [],
   "source": [
    "import pandas as pd\n",
    "import numpy as np\n",
    "from scipy import stats\n",
    "import matplotlib.pyplot as plt\n",
    "import seaborn as sns\n",
    "%matplotlib inline"
   ]
  },
  {
   "cell_type": "markdown",
   "metadata": {},
   "source": [
    "#### Loading the data from a stata file"
   ]
  },
  {
   "cell_type": "code",
   "execution_count": 2,
   "metadata": {},
   "outputs": [],
   "source": [
    "data = pd.io.stata.read_stata('data/us_job_market_discrimination.dta')"
   ]
  },
  {
   "cell_type": "code",
   "execution_count": 3,
   "metadata": {},
   "outputs": [
    {
     "data": {
      "text/html": [
       "<div>\n",
       "<style scoped>\n",
       "    .dataframe tbody tr th:only-of-type {\n",
       "        vertical-align: middle;\n",
       "    }\n",
       "\n",
       "    .dataframe tbody tr th {\n",
       "        vertical-align: top;\n",
       "    }\n",
       "\n",
       "    .dataframe thead th {\n",
       "        text-align: right;\n",
       "    }\n",
       "</style>\n",
       "<table border=\"1\" class=\"dataframe\">\n",
       "  <thead>\n",
       "    <tr style=\"text-align: right;\">\n",
       "      <th></th>\n",
       "      <th>id</th>\n",
       "      <th>ad</th>\n",
       "      <th>education</th>\n",
       "      <th>ofjobs</th>\n",
       "      <th>yearsexp</th>\n",
       "      <th>honors</th>\n",
       "      <th>volunteer</th>\n",
       "      <th>military</th>\n",
       "      <th>empholes</th>\n",
       "      <th>occupspecific</th>\n",
       "      <th>...</th>\n",
       "      <th>compreq</th>\n",
       "      <th>orgreq</th>\n",
       "      <th>manuf</th>\n",
       "      <th>transcom</th>\n",
       "      <th>bankreal</th>\n",
       "      <th>trade</th>\n",
       "      <th>busservice</th>\n",
       "      <th>othservice</th>\n",
       "      <th>missind</th>\n",
       "      <th>ownership</th>\n",
       "    </tr>\n",
       "  </thead>\n",
       "  <tbody>\n",
       "    <tr>\n",
       "      <th>0</th>\n",
       "      <td>b</td>\n",
       "      <td>1</td>\n",
       "      <td>4</td>\n",
       "      <td>2</td>\n",
       "      <td>6</td>\n",
       "      <td>0</td>\n",
       "      <td>0</td>\n",
       "      <td>0</td>\n",
       "      <td>1</td>\n",
       "      <td>17</td>\n",
       "      <td>...</td>\n",
       "      <td>1.0</td>\n",
       "      <td>0.0</td>\n",
       "      <td>1.0</td>\n",
       "      <td>0.0</td>\n",
       "      <td>0.0</td>\n",
       "      <td>0.0</td>\n",
       "      <td>0.0</td>\n",
       "      <td>0.0</td>\n",
       "      <td>0.0</td>\n",
       "      <td></td>\n",
       "    </tr>\n",
       "    <tr>\n",
       "      <th>1</th>\n",
       "      <td>b</td>\n",
       "      <td>1</td>\n",
       "      <td>3</td>\n",
       "      <td>3</td>\n",
       "      <td>6</td>\n",
       "      <td>0</td>\n",
       "      <td>1</td>\n",
       "      <td>1</td>\n",
       "      <td>0</td>\n",
       "      <td>316</td>\n",
       "      <td>...</td>\n",
       "      <td>1.0</td>\n",
       "      <td>0.0</td>\n",
       "      <td>1.0</td>\n",
       "      <td>0.0</td>\n",
       "      <td>0.0</td>\n",
       "      <td>0.0</td>\n",
       "      <td>0.0</td>\n",
       "      <td>0.0</td>\n",
       "      <td>0.0</td>\n",
       "      <td></td>\n",
       "    </tr>\n",
       "    <tr>\n",
       "      <th>2</th>\n",
       "      <td>b</td>\n",
       "      <td>1</td>\n",
       "      <td>4</td>\n",
       "      <td>1</td>\n",
       "      <td>6</td>\n",
       "      <td>0</td>\n",
       "      <td>0</td>\n",
       "      <td>0</td>\n",
       "      <td>0</td>\n",
       "      <td>19</td>\n",
       "      <td>...</td>\n",
       "      <td>1.0</td>\n",
       "      <td>0.0</td>\n",
       "      <td>1.0</td>\n",
       "      <td>0.0</td>\n",
       "      <td>0.0</td>\n",
       "      <td>0.0</td>\n",
       "      <td>0.0</td>\n",
       "      <td>0.0</td>\n",
       "      <td>0.0</td>\n",
       "      <td></td>\n",
       "    </tr>\n",
       "    <tr>\n",
       "      <th>3</th>\n",
       "      <td>b</td>\n",
       "      <td>1</td>\n",
       "      <td>3</td>\n",
       "      <td>4</td>\n",
       "      <td>6</td>\n",
       "      <td>0</td>\n",
       "      <td>1</td>\n",
       "      <td>0</td>\n",
       "      <td>1</td>\n",
       "      <td>313</td>\n",
       "      <td>...</td>\n",
       "      <td>1.0</td>\n",
       "      <td>0.0</td>\n",
       "      <td>1.0</td>\n",
       "      <td>0.0</td>\n",
       "      <td>0.0</td>\n",
       "      <td>0.0</td>\n",
       "      <td>0.0</td>\n",
       "      <td>0.0</td>\n",
       "      <td>0.0</td>\n",
       "      <td></td>\n",
       "    </tr>\n",
       "    <tr>\n",
       "      <th>4</th>\n",
       "      <td>b</td>\n",
       "      <td>1</td>\n",
       "      <td>3</td>\n",
       "      <td>3</td>\n",
       "      <td>22</td>\n",
       "      <td>0</td>\n",
       "      <td>0</td>\n",
       "      <td>0</td>\n",
       "      <td>0</td>\n",
       "      <td>313</td>\n",
       "      <td>...</td>\n",
       "      <td>1.0</td>\n",
       "      <td>1.0</td>\n",
       "      <td>0.0</td>\n",
       "      <td>0.0</td>\n",
       "      <td>0.0</td>\n",
       "      <td>0.0</td>\n",
       "      <td>0.0</td>\n",
       "      <td>1.0</td>\n",
       "      <td>0.0</td>\n",
       "      <td>Nonprofit</td>\n",
       "    </tr>\n",
       "  </tbody>\n",
       "</table>\n",
       "<p>5 rows × 65 columns</p>\n",
       "</div>"
      ],
      "text/plain": [
       "  id ad  education  ofjobs  yearsexp  honors  volunteer  military  empholes  \\\n",
       "0  b  1          4       2         6       0          0         0         1   \n",
       "1  b  1          3       3         6       0          1         1         0   \n",
       "2  b  1          4       1         6       0          0         0         0   \n",
       "3  b  1          3       4         6       0          1         0         1   \n",
       "4  b  1          3       3        22       0          0         0         0   \n",
       "\n",
       "   occupspecific    ...      compreq  orgreq  manuf  transcom  bankreal trade  \\\n",
       "0             17    ...          1.0     0.0    1.0       0.0       0.0   0.0   \n",
       "1            316    ...          1.0     0.0    1.0       0.0       0.0   0.0   \n",
       "2             19    ...          1.0     0.0    1.0       0.0       0.0   0.0   \n",
       "3            313    ...          1.0     0.0    1.0       0.0       0.0   0.0   \n",
       "4            313    ...          1.0     1.0    0.0       0.0       0.0   0.0   \n",
       "\n",
       "  busservice othservice  missind  ownership  \n",
       "0        0.0        0.0      0.0             \n",
       "1        0.0        0.0      0.0             \n",
       "2        0.0        0.0      0.0             \n",
       "3        0.0        0.0      0.0             \n",
       "4        0.0        1.0      0.0  Nonprofit  \n",
       "\n",
       "[5 rows x 65 columns]"
      ]
     },
     "execution_count": 3,
     "metadata": {},
     "output_type": "execute_result"
    }
   ],
   "source": [
    "data.head()"
   ]
  },
  {
   "cell_type": "markdown",
   "metadata": {},
   "source": [
    "### Dataset with résumés that received callbacks"
   ]
  },
  {
   "cell_type": "code",
   "execution_count": 4,
   "metadata": {},
   "outputs": [
    {
     "data": {
      "text/html": [
       "<div>\n",
       "<style scoped>\n",
       "    .dataframe tbody tr th:only-of-type {\n",
       "        vertical-align: middle;\n",
       "    }\n",
       "\n",
       "    .dataframe tbody tr th {\n",
       "        vertical-align: top;\n",
       "    }\n",
       "\n",
       "    .dataframe thead th {\n",
       "        text-align: right;\n",
       "    }\n",
       "</style>\n",
       "<table border=\"1\" class=\"dataframe\">\n",
       "  <thead>\n",
       "    <tr style=\"text-align: right;\">\n",
       "      <th></th>\n",
       "      <th>id</th>\n",
       "      <th>race</th>\n",
       "      <th>call</th>\n",
       "      <th>education</th>\n",
       "      <th>yearsexp</th>\n",
       "    </tr>\n",
       "  </thead>\n",
       "  <tbody>\n",
       "    <tr>\n",
       "      <th>85</th>\n",
       "      <td>b</td>\n",
       "      <td>w</td>\n",
       "      <td>1.0</td>\n",
       "      <td>2</td>\n",
       "      <td>7</td>\n",
       "    </tr>\n",
       "    <tr>\n",
       "      <th>95</th>\n",
       "      <td>b</td>\n",
       "      <td>w</td>\n",
       "      <td>1.0</td>\n",
       "      <td>2</td>\n",
       "      <td>4</td>\n",
       "    </tr>\n",
       "    <tr>\n",
       "      <th>105</th>\n",
       "      <td>b</td>\n",
       "      <td>w</td>\n",
       "      <td>1.0</td>\n",
       "      <td>4</td>\n",
       "      <td>6</td>\n",
       "    </tr>\n",
       "    <tr>\n",
       "      <th>107</th>\n",
       "      <td>b</td>\n",
       "      <td>b</td>\n",
       "      <td>1.0</td>\n",
       "      <td>4</td>\n",
       "      <td>6</td>\n",
       "    </tr>\n",
       "    <tr>\n",
       "      <th>126</th>\n",
       "      <td>b</td>\n",
       "      <td>b</td>\n",
       "      <td>1.0</td>\n",
       "      <td>4</td>\n",
       "      <td>9</td>\n",
       "    </tr>\n",
       "  </tbody>\n",
       "</table>\n",
       "</div>"
      ],
      "text/plain": [
       "    id race  call  education  yearsexp\n",
       "85   b    w   1.0          2         7\n",
       "95   b    w   1.0          2         4\n",
       "105  b    w   1.0          4         6\n",
       "107  b    b   1.0          4         6\n",
       "126  b    b   1.0          4         9"
      ]
     },
     "execution_count": 4,
     "metadata": {},
     "output_type": "execute_result"
    }
   ],
   "source": [
    "data_calls = data[['id','race','call', 'education', 'yearsexp']].loc[data['call']==1]\n",
    "data_calls.head()"
   ]
  },
  {
   "cell_type": "markdown",
   "metadata": {},
   "source": [
    "### Callbacks for white and black-sounding names  (a summary)"
   ]
  },
  {
   "cell_type": "code",
   "execution_count": 5,
   "metadata": {},
   "outputs": [
    {
     "name": "stdout",
     "output_type": "stream",
     "text": [
      "Total résumés = 4870 Curricula Vitae (CV)\n",
      "Total callbacks = 392 calls (8.05% all CV)\n",
      "...\n",
      "...Callback for with white-sounding name = 235 or 59.95% from résumés with callbacks;\n",
      "...Callback for black-sounding name = 157 or 40.05% from résumés with callbacks.\n",
      "...\n",
      "...Callback for white-sounding name is 33.19% greater than for black-sounding names\n"
     ]
    }
   ],
   "source": [
    "# total résumés in the dataset\n",
    "n = data.shape[0]\n",
    "\n",
    "# Callback / white/black-sounding name\n",
    "total_call = data['id'].loc[data['call'] ==1.0].count()\n",
    "call_w = data['id'].loc[(data['race'] =='w') & (data['call'] ==1.0)].count()\n",
    "call_b = data['id'].loc[(data['race'] =='b') & (data['call'] ==1.0)].count()\n",
    "\n",
    "# Summary\n",
    "print(\"Total résumés = %d Curricula Vitae (CV)\" % n)\n",
    "print(\"Total callbacks = %d calls (%.2f%% all CV)\" % (total_call,(100*(total_call/n))))\n",
    "print(\"...\")\n",
    "print(\"...Callback for with white-sounding name = %d or %.2f%% from résumés with callbacks;\" % (call_w, (100*(call_w/total_call))))\n",
    "print(\"...Callback for black-sounding name = %d or %.2f%% from résumés with callbacks.\" % (call_b, (100*(call_b/total_call))))\n",
    "print(\"...\")\n",
    "print(\"...Callback for white-sounding name is %.2f%% greater than for black-sounding names\" % (100*((call_w - call_b)/call_w)))"
   ]
  },
  {
   "cell_type": "markdown",
   "metadata": {},
   "source": [
    "#### A cross tabulation (*crosstab*) - a special case of Pivot Tabel - that summarize callbacks/race:"
   ]
  },
  {
   "cell_type": "code",
   "execution_count": 6,
   "metadata": {},
   "outputs": [
    {
     "data": {
      "text/html": [
       "<div>\n",
       "<style scoped>\n",
       "    .dataframe tbody tr th:only-of-type {\n",
       "        vertical-align: middle;\n",
       "    }\n",
       "\n",
       "    .dataframe tbody tr th {\n",
       "        vertical-align: top;\n",
       "    }\n",
       "\n",
       "    .dataframe thead th {\n",
       "        text-align: right;\n",
       "    }\n",
       "</style>\n",
       "<table border=\"1\" class=\"dataframe\">\n",
       "  <thead>\n",
       "    <tr style=\"text-align: right;\">\n",
       "      <th>call</th>\n",
       "      <th>1.0</th>\n",
       "      <th>All</th>\n",
       "    </tr>\n",
       "    <tr>\n",
       "      <th>race</th>\n",
       "      <th></th>\n",
       "      <th></th>\n",
       "    </tr>\n",
       "  </thead>\n",
       "  <tbody>\n",
       "    <tr>\n",
       "      <th>b</th>\n",
       "      <td>157</td>\n",
       "      <td>157</td>\n",
       "    </tr>\n",
       "    <tr>\n",
       "      <th>w</th>\n",
       "      <td>235</td>\n",
       "      <td>235</td>\n",
       "    </tr>\n",
       "    <tr>\n",
       "      <th>All</th>\n",
       "      <td>392</td>\n",
       "      <td>392</td>\n",
       "    </tr>\n",
       "  </tbody>\n",
       "</table>\n",
       "</div>"
      ],
      "text/plain": [
       "call  1.0  All\n",
       "race          \n",
       "b     157  157\n",
       "w     235  235\n",
       "All   392  392"
      ]
     },
     "execution_count": 6,
     "metadata": {},
     "output_type": "execute_result"
    }
   ],
   "source": [
    "pd.crosstab(data_calls.race, data_calls.call, margins=True)"
   ]
  },
  {
   "cell_type": "markdown",
   "metadata": {},
   "source": [
    "### Callbacks: a visual presentation"
   ]
  },
  {
   "cell_type": "code",
   "execution_count": 7,
   "metadata": {},
   "outputs": [
    {
     "data": {
      "image/png": "[encoded data removed]",
      "text/plain": [
       "<matplotlib.figure.Figure at 0x10c663550>"
      ]
     },
     "metadata": {},
     "output_type": "display_data"
    }
   ],
   "source": [
    "# A simple visual presentation with the total callbacks/race-sounding names \n",
    "sns.set(style=\"darkgrid\")\n",
    "ax = sns.countplot(x=\"race\", data=data_calls[['race', 'call']])"
   ]
  },
  {
   "cell_type": "markdown",
   "metadata": {
    "collapsed": true
   },
   "source": [
    "### 1.What test is appropriate for this problem? Does CLT apply?"
   ]
  },
  {
   "cell_type": "markdown",
   "metadata": {},
   "source": [
    "- We have a problem with variables that represents ***categorical values***: 'b', 'w'.<br>\n",
    "- The question is about the the influence of race in the **rate** of callbacks: \"...*whether race has a significant impact on the **rate** of callbacks for resumes..*\"<br>\n",
    "- The appropriate test is **two sample z-test** for **proportions**."
   ]
  },
  {
   "cell_type": "markdown",
   "metadata": {},
   "source": [
    "#### Does CLT apply?\n",
    "Yes."
   ]
  },
  {
   "cell_type": "markdown",
   "metadata": {},
   "source": [
    "### 2.What are the null and alternate hypotheses?"
   ]
  },
  {
   "cell_type": "markdown",
   "metadata": {},
   "source": [
    "#### The investigative question:  *The race - identify with a white or black-sounding names in resumes - has a significant impact on the rate of callbacks for resumes*?\n",
    "#### So far we have the following proportion for callbacks:"
   ]
  },
  {
   "cell_type": "code",
   "execution_count": 48,
   "metadata": {},
   "outputs": [
    {
     "name": "stdout",
     "output_type": "stream",
     "text": [
      "+------------------------------|---------------------------+\n",
      "| Callbacks (total)            | 392 calls (8.05% all CV)  |\n",
      "|------------------------------|---------------------------|\n",
      "| Call for white-sounding name | 235 or 59.95% of callbacks|\n",
      "| Call for black-sounding name | 157 or 40.05% of callbacks|\n",
      "+------------------------------|---------------------------+\n",
      "\n",
      "Callback for white-sounding name is 33.19% greater than for black-sounding names\n"
     ]
    }
   ],
   "source": [
    "print(\"+------------------------------|---------------------------+\")\n",
    "print(\"| Callbacks (total)            | %d calls (%.2f%% all CV)  |\" % (total_call,(100*(total_call/n))))\n",
    "print(\"|------------------------------|---------------------------|\")\n",
    "print(\"| Call for white-sounding name | %d or %.2f%% of callbacks|\" % (call_w, (100*(call_w/total_call))))\n",
    "print(\"| Call for black-sounding name | %d or %.2f%% of callbacks|\" % (call_b, (100*(call_b/total_call))))\n",
    "print(\"+------------------------------|---------------------------+\")\n",
    "print(\"\")\n",
    "print(\"Callback for white-sounding name is %.2f%% greater than for black-sounding names\" % (100*((call_w - call_b)/call_w)))"
   ]
  },
  {
   "cell_type": "markdown",
   "metadata": {},
   "source": [
    "### Hypothesis:"
   ]
  },
  {
   "cell_type": "markdown",
   "metadata": {},
   "source": [
    "#### 2.1 Null hypothesis: **H0 => \"Race has NOT a significant impact on the rate of callbacks for résumés\"**. In other words, the **rate** or **proportion** between callbacks for white and black-sounding names is the same: **50%**."
   ]
  },
  {
   "cell_type": "markdown",
   "metadata": {},
   "source": [
    "#### 2.2 - Alternative hypothesis: **Ha => \"Race has a significant impact on the rate of callbacks for résumés\"**. In other words, the **rate** or **proportion** between callbacks for white and black-sounding names is not the same: **not equal to 50%**."
   ]
  },
  {
   "cell_type": "markdown",
   "metadata": {},
   "source": [
    "### 3. Compute margin of error, confidence interval, and p-value"
   ]
  },
  {
   "cell_type": "markdown",
   "metadata": {},
   "source": [
    "### The z-test formula for proportion:"
   ]
  },
  {
   "cell_type": "markdown",
   "metadata": {},
   "source": [
    "![z-test-proportion](images/img_z-test-proportion.png)"
   ]
  },
  {
   "cell_type": "markdown",
   "metadata": {},
   "source": [
    "### Where:"
   ]
  },
  {
   "cell_type": "code",
   "execution_count": 36,
   "metadata": {},
   "outputs": [
    {
     "name": "stdout",
     "output_type": "stream",
     "text": [
      "+----|-------|-----------------------------------------+\n",
      "| p1 | 59.95 | % of callbacks for white-sounding names |\n",
      "|----|-------|-----------------------------------------|\n",
      "| p2 | 40.05 | % of callbacks for black-sounding names |\n",
      "|----|-------|-----------------------------------------|\n",
      "| p  | 50.00 | % overall                               |\n",
      "|----|-------|-----------------------------------------|\n",
      "| n1 | 235   | total callbacks for white-sounding names|\n",
      "|----|-------|-----------------------------------------|\n",
      "| n1 | 157   | total callbacks for black-sounding names|\n",
      "+----|-------|-----------------------------------------+\n"
     ]
    }
   ],
   "source": [
    "# Proportion for callback (white-sounding names)\n",
    "p1 = call_w/total_call\n",
    "\n",
    "# Proportion for callback (black-sounding names)\n",
    "p2 = call_b/total_call\n",
    "\n",
    "# Overall Proportion\n",
    "p  = (call_w + call_b)/(2*total_call)\n",
    "\n",
    "# Total callbacks (white-sounding names)\n",
    "n1 = call_w\n",
    "\n",
    "# Total callbacks (black-sounding names)\n",
    "n2 = call_b\n",
    "\n",
    "print(\"+----|-------|-----------------------------------------+\")\n",
    "print(\"| p1 | %.2f | %% of callbacks for white-sounding names |\" % (100*(call_w/total_call)))\n",
    "print(\"|----|-------|-----------------------------------------|\")\n",
    "print(\"| p2 | %.2f | %% of callbacks for black-sounding names |\" % (100*(call_b/total_call)))\n",
    "print(\"|----|-------|-----------------------------------------|\")\n",
    "print(\"| p  | %.2f | %% overall                               |\" % (100*p))\n",
    "print(\"|----|-------|-----------------------------------------|\")\n",
    "print(\"| n1 | %d   | total callbacks for white-sounding names|\" % call_w)\n",
    "print(\"|----|-------|-----------------------------------------|\")\n",
    "print(\"| n1 | %d   | total callbacks for black-sounding names|\" % call_b)\n",
    "print(\"+----|-------|-----------------------------------------+\")"
   ]
  },
  {
   "cell_type": "markdown",
   "metadata": {},
   "source": [
    "#### Finding Z:"
   ]
  },
  {
   "cell_type": "code",
   "execution_count": 49,
   "metadata": {},
   "outputs": [
    {
     "name": "stdout",
     "output_type": "stream",
     "text": [
      "Z = 3.86\n"
     ]
    }
   ],
   "source": [
    "z = ((p1-p2)- 0 )/np.sqrt((p*(1-p))*(1/n1 + 1/n2))\n",
    "print(\"Z = %.2f\" % z)"
   ]
  },
  {
   "cell_type": "markdown",
   "metadata": {},
   "source": [
    "#### Assumption about confidence level : 95%. Thus, alpha level (alpha) = 5%. The z-score associated with a 5% alpha level / 2 is 1.96."
   ]
  },
  {
   "cell_type": "code",
   "execution_count": 42,
   "metadata": {},
   "outputs": [],
   "source": [
    "Z_SCORE = 1.96"
   ]
  },
  {
   "cell_type": "markdown",
   "metadata": {},
   "source": [
    "#### The Ho *null* hypothesis is True of False?"
   ]
  },
  {
   "cell_type": "code",
   "execution_count": 47,
   "metadata": {},
   "outputs": [
    {
     "name": "stdout",
     "output_type": "stream",
     "text": [
      "False: we reject the null hypothesis!\n"
     ]
    }
   ],
   "source": [
    "if(z > Z_SCORE): \n",
    "    print(\"False: we reject the null hypothesis!\")\n",
    "else:\n",
    "    print(\"True: we accept the null hypothesis!\")"
   ]
  },
  {
   "cell_type": "markdown",
   "metadata": {},
   "source": [
    "### Conclusion:\n",
    "#### => There is no sufficient evidence to suggest that race has not a significant impact on the rate of callbacks."
   ]
  },
  {
   "cell_type": "markdown",
   "metadata": {},
   "source": [
    "### Margin of error and confidence intervals for 'w' and 'b' groups"
   ]
  },
  {
   "cell_type": "markdown",
   "metadata": {},
   "source": [
    "* **White-sounding names**"
   ]
  },
  {
   "cell_type": "code",
   "execution_count": 52,
   "metadata": {},
   "outputs": [
    {
     "name": "stdout",
     "output_type": "stream",
     "text": [
      "White-sounding names:\n",
      "---------------------\n",
      "Mean:  0.599489795918\n",
      "Margin of error:  0.0137622448744\n",
      "---------------------\n",
      "Confidence interval: \n",
      "...From = 0.59\n",
      "...To   = 0.61\n"
     ]
    }
   ],
   "source": [
    "margin_error = np.sqrt((p1*(1-p1)/n))*Z_SCORE\n",
    "low_critical_value = p1 - margin_error\n",
    "high_critical_value = p1 + margin_error\n",
    "print(\"White-sounding names:\")\n",
    "print(\"---------------------\")\n",
    "print(\"Mean: \", p1)\n",
    "print(\"Margin of error: \", margin_error)\n",
    "print(\"---------------------\")\n",
    "print(\"Confidence interval: \")\n",
    "print(\"...From = %.2f\" %low_critical_value)\n",
    "print(\"...To   = %.2f\" %high_critical_value)"
   ]
  },
  {
   "cell_type": "markdown",
   "metadata": {},
   "source": [
    "* **Black-sounding names**"
   ]
  },
  {
   "cell_type": "code",
   "execution_count": 53,
   "metadata": {},
   "outputs": [
    {
     "name": "stdout",
     "output_type": "stream",
     "text": [
      "Black-sounding names:\n",
      "---------------------\n",
      "Mean:  0.599489795918\n",
      "Margin of error:  0.0137622448744\n",
      "---------------------\n",
      "Confidence interval: \n",
      "...From = 0.39\n",
      "...To   = 0.41\n"
     ]
    }
   ],
   "source": [
    "margin_error = np.sqrt((p2*(1-p2)/n))*Z_SCORE\n",
    "low_critical_value = p2 - margin_error\n",
    "high_critical_value = p2 + margin_error\n",
    "print(\"Black-sounding names:\")\n",
    "print(\"---------------------\")\n",
    "print(\"Mean: \", p1)\n",
    "print(\"Margin of error: \", margin_error)\n",
    "print(\"---------------------\")\n",
    "print(\"Confidence interval: \")\n",
    "print(\"...From = %.2f\" %low_critical_value)\n",
    "print(\"...To   = %.2f\" %high_critical_value)"
   ]
  },
  {
   "cell_type": "markdown",
   "metadata": {},
   "source": [
    "### 4. Write a story describing the statistical significance in the context or the original problem."
   ]
  },
  {
   "cell_type": "code",
   "execution_count": null,
   "metadata": {},
   "outputs": [],
   "source": []
  },
  {
   "cell_type": "markdown",
   "metadata": {},
   "source": [
    "### 5. Does your analysis mean that race/name is the most important factor in callback success? Why or why not? If not, how would you amend your analysis?"
   ]
  },
  {
   "cell_type": "code",
   "execution_count": null,
   "metadata": {},
   "outputs": [],
   "source": []
  },
  {
   "cell_type": "markdown",
   "metadata": {},
   "source": [
    "## References:"
   ]
  },
  {
   "cell_type": "markdown",
   "metadata": {},
   "source": [
    "[1] \"Statistics in a Nutshell\", Boslaugh S., Watters A., O'Reilly (2008): https://www.amazon.com/Statistics-Nutshell-Desktop-Reference-OReilly/dp/0596510497/ref=sr_1_2?ie=UTF8&qid=1517168318&sr=8-2&keywords=Statistics+in+a+Nutshell%22%2C+Boslaugh "
   ]
  },
  {
   "cell_type": "markdown",
   "metadata": {},
   "source": [
    "[2] Documentation of \"Scipy.Stats.TTest_ind\": https://docs.scipy.org/doc/scipy/reference/generated/scipy.stats.ttest_ind.html#scipy.stats.ttest_ind "
   ]
  },
  {
   "cell_type": "markdown",
   "metadata": {},
   "source": [
    "## Sandbox:"
   ]
  },
  {
   "cell_type": "markdown",
   "metadata": {},
   "source": [
    "### Investigation: is there any relation between white/black-sounding names and education versus years of experience?"
   ]
  },
  {
   "cell_type": "code",
   "execution_count": 15,
   "metadata": {},
   "outputs": [
    {
     "data": {
      "text/plain": [
       "<seaborn.axisgrid.FacetGrid at 0x10c8eb4a8>"
      ]
     },
     "execution_count": 15,
     "metadata": {},
     "output_type": "execute_result"
    },
    {
     "data": {
      "image/png": "[encoded data removed]",
      "text/plain": [
       "<matplotlib.figure.Figure at 0x10c690e48>"
      ]
     },
     "metadata": {},
     "output_type": "display_data"
    }
   ],
   "source": [
    "sns.set()\n",
    "\n",
    "# Plot tip as a function of toal bill across days\n",
    "g = sns.lmplot(x=\"yearsexp\", y=\"education\", hue=\"race\",\n",
    "               truncate=True, size=7, data=data_calls)\n",
    "\n",
    "# Use more informative axis labels than are provided by default\n",
    "g.set_axis_labels(\"Years of experience\", \"Years of formal education\")"
   ]
  },
  {
   "cell_type": "markdown",
   "metadata": {},
   "source": [
    "### Summary:"
   ]
  },
  {
   "cell_type": "code",
   "execution_count": 51,
   "metadata": {},
   "outputs": [
    {
     "name": "stdout",
     "output_type": "stream",
     "text": [
      "Total résumés with callback = 392\n",
      "---------------------------------\n",
      "Perc.(%) white-sounding names from total = 50.00%\n",
      "Perc.(%) black-sounding names from total = 50.00%\n",
      "---------------------------------\n",
      "Perc.(%) white-sounding names from callbacks = 59.95%\n",
      "Perc.(%) black-sounding names from total = 40.05%\n",
      "---------------------------------\n"
     ]
    }
   ],
   "source": [
    "# Total résumés\n",
    "n = data.shape[0]\n",
    "\n",
    "# Total callbacks\n",
    "n_call = data_calls.shape[0]\n",
    "\n",
    "# Résumés white and black sounding names\n",
    "total_white = data['id'].loc[(data['race'] =='w')].count()\n",
    "total_black = data['id'].loc[(data['race'] =='b')].count()\n",
    "\n",
    "# Perc.(%) white and black sounding names from total\n",
    "perc_tot_white = total_white/n\n",
    "perc_tot_black = total_black/n\n",
    "\n",
    "# Perc.(%) white and black sounding names with callback\n",
    "perc_call_white = call_w/n_call\n",
    "perc_call_black = call_b/n_call\n",
    "\n",
    "print(\"Total résumés with callback = %d\" %n_call)\n",
    "print(\"---------------------------------\")\n",
    "print(\"Perc.(%%) white-sounding names from total = %.2f%%\" %(perc_tot_white*100))\n",
    "print(\"Perc.(%%) black-sounding names from total = %.2f%%\" %(perc_tot_black*100))\n",
    "print(\"---------------------------------\")\n",
    "print(\"Perc.(%%) white-sounding names from callbacks = %.2f%%\" %(perc_call_white*100))\n",
    "print(\"Perc.(%%) black-sounding names from total = %.2f%%\" %(perc_call_black*100))\n",
    "print(\"---------------------------------\")"
   ]
  },
  {
   "cell_type": "code",
   "execution_count": null,
   "metadata": {},
   "outputs": [],
   "source": []
  }
 ],
 "metadata": {
  "kernelspec": {
   "display_name": "Python 3",
   "language": "python",
   "name": "python3"
  },
  "language_info": {
   "codemirror_mode": {
    "name": "ipython",
    "version": 3
   },
   "file_extension": ".py",
   "mimetype": "text/x-python",
   "name": "python",
   "nbconvert_exporter": "python",
   "pygments_lexer": "ipython3",
   "version": "3.6.4"
  }
 },
 "nbformat": 4,
 "nbformat_minor": 1
}
