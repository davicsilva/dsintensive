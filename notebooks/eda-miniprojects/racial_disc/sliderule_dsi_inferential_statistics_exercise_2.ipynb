{
 "cells": [
  {
   "cell_type": "markdown",
   "metadata": {},
   "source": [
    "# Examining Racial Discrimination in the US Job Market\n",
    "\n",
    "### Background\n",
    "Racial discrimination continues to be pervasive in cultures throughout the world. Researchers examined the level of racial discrimination in the United States labor market by randomly assigning identical résumés to black-sounding or white-sounding names and observing the impact on requests for interviews from employers.\n",
    "\n",
    "### Data\n",
    "In the dataset provided, each row represents a resume. The 'race' column has two values, 'b' and 'w', indicating black-sounding and white-sounding. The column 'call' has two values, 1 and 0, indicating whether the resume received a call from employers or not.\n",
    "\n",
    "Note that the 'b' and 'w' values in race are assigned randomly to the resumes when presented to the employer."
   ]
  },
  {
   "cell_type": "markdown",
   "metadata": {},
   "source": [
    "### Exercises\n",
    "You will perform a statistical analysis to establish whether race has a significant impact on the rate of callbacks for resumes.\n",
    "\n",
    "Answer the following questions **in this notebook below and submit to your Github account**. \n",
    "\n",
    "   1. What test is appropriate for this problem? Does CLT apply?\n",
    "   2. What are the null and alternate hypotheses?\n",
    "   3. Compute margin of error, confidence interval, and p-value.\n",
    "   4. Write a story describing the statistical significance in the context or the original problem.\n",
    "   5. Does your analysis mean that race/name is the most important factor in callback success? Why or why not? If not, how would you amend your analysis?\n",
    "\n",
    "You can include written notes in notebook cells using Markdown: \n",
    "   - In the control panel at the top, choose Cell > Cell Type > Markdown\n",
    "   - Markdown syntax: http://nestacms.com/docs/creating-content/markdown-cheat-sheet\n",
    "\n",
    "\n",
    "#### Resources\n",
    "+ Experiment information and data source: http://www.povertyactionlab.org/evaluation/discrimination-job-market-united-states\n",
    "+ Scipy statistical methods: http://docs.scipy.org/doc/scipy/reference/stats.html \n",
    "+ Markdown syntax: http://nestacms.com/docs/creating-content/markdown-cheat-sheet\n",
    "****"
   ]
  },
  {
   "cell_type": "markdown",
   "metadata": {},
   "source": [
    "#### Import the libs"
   ]
  },
  {
   "cell_type": "code",
   "execution_count": 1,
   "metadata": {},
   "outputs": [],
   "source": [
    "import pandas as pd\n",
    "import numpy as np\n",
    "from scipy import stats\n",
    "import matplotlib.pyplot as plt\n",
    "import seaborn as sns\n",
    "%matplotlib inline"
   ]
  },
  {
   "cell_type": "markdown",
   "metadata": {},
   "source": [
    "#### Loading the data from a stata file"
   ]
  },
  {
   "cell_type": "code",
   "execution_count": 2,
   "metadata": {},
   "outputs": [],
   "source": [
    "data = pd.io.stata.read_stata('data/us_job_market_discrimination.dta')"
   ]
  },
  {
   "cell_type": "code",
   "execution_count": 3,
   "metadata": {},
   "outputs": [
    {
     "data": {
      "text/html": [
       "<div>\n",
       "<style scoped>\n",
       "    .dataframe tbody tr th:only-of-type {\n",
       "        vertical-align: middle;\n",
       "    }\n",
       "\n",
       "    .dataframe tbody tr th {\n",
       "        vertical-align: top;\n",
       "    }\n",
       "\n",
       "    .dataframe thead th {\n",
       "        text-align: right;\n",
       "    }\n",
       "</style>\n",
       "<table border=\"1\" class=\"dataframe\">\n",
       "  <thead>\n",
       "    <tr style=\"text-align: right;\">\n",
       "      <th></th>\n",
       "      <th>id</th>\n",
       "      <th>ad</th>\n",
       "      <th>education</th>\n",
       "      <th>ofjobs</th>\n",
       "      <th>yearsexp</th>\n",
       "      <th>honors</th>\n",
       "      <th>volunteer</th>\n",
       "      <th>military</th>\n",
       "      <th>empholes</th>\n",
       "      <th>occupspecific</th>\n",
       "      <th>...</th>\n",
       "      <th>compreq</th>\n",
       "      <th>orgreq</th>\n",
       "      <th>manuf</th>\n",
       "      <th>transcom</th>\n",
       "      <th>bankreal</th>\n",
       "      <th>trade</th>\n",
       "      <th>busservice</th>\n",
       "      <th>othservice</th>\n",
       "      <th>missind</th>\n",
       "      <th>ownership</th>\n",
       "    </tr>\n",
       "  </thead>\n",
       "  <tbody>\n",
       "    <tr>\n",
       "      <th>0</th>\n",
       "      <td>b</td>\n",
       "      <td>1</td>\n",
       "      <td>4</td>\n",
       "      <td>2</td>\n",
       "      <td>6</td>\n",
       "      <td>0</td>\n",
       "      <td>0</td>\n",
       "      <td>0</td>\n",
       "      <td>1</td>\n",
       "      <td>17</td>\n",
       "      <td>...</td>\n",
       "      <td>1.0</td>\n",
       "      <td>0.0</td>\n",
       "      <td>1.0</td>\n",
       "      <td>0.0</td>\n",
       "      <td>0.0</td>\n",
       "      <td>0.0</td>\n",
       "      <td>0.0</td>\n",
       "      <td>0.0</td>\n",
       "      <td>0.0</td>\n",
       "      <td></td>\n",
       "    </tr>\n",
       "    <tr>\n",
       "      <th>1</th>\n",
       "      <td>b</td>\n",
       "      <td>1</td>\n",
       "      <td>3</td>\n",
       "      <td>3</td>\n",
       "      <td>6</td>\n",
       "      <td>0</td>\n",
       "      <td>1</td>\n",
       "      <td>1</td>\n",
       "      <td>0</td>\n",
       "      <td>316</td>\n",
       "      <td>...</td>\n",
       "      <td>1.0</td>\n",
       "      <td>0.0</td>\n",
       "      <td>1.0</td>\n",
       "      <td>0.0</td>\n",
       "      <td>0.0</td>\n",
       "      <td>0.0</td>\n",
       "      <td>0.0</td>\n",
       "      <td>0.0</td>\n",
       "      <td>0.0</td>\n",
       "      <td></td>\n",
       "    </tr>\n",
       "    <tr>\n",
       "      <th>2</th>\n",
       "      <td>b</td>\n",
       "      <td>1</td>\n",
       "      <td>4</td>\n",
       "      <td>1</td>\n",
       "      <td>6</td>\n",
       "      <td>0</td>\n",
       "      <td>0</td>\n",
       "      <td>0</td>\n",
       "      <td>0</td>\n",
       "      <td>19</td>\n",
       "      <td>...</td>\n",
       "      <td>1.0</td>\n",
       "      <td>0.0</td>\n",
       "      <td>1.0</td>\n",
       "      <td>0.0</td>\n",
       "      <td>0.0</td>\n",
       "      <td>0.0</td>\n",
       "      <td>0.0</td>\n",
       "      <td>0.0</td>\n",
       "      <td>0.0</td>\n",
       "      <td></td>\n",
       "    </tr>\n",
       "    <tr>\n",
       "      <th>3</th>\n",
       "      <td>b</td>\n",
       "      <td>1</td>\n",
       "      <td>3</td>\n",
       "      <td>4</td>\n",
       "      <td>6</td>\n",
       "      <td>0</td>\n",
       "      <td>1</td>\n",
       "      <td>0</td>\n",
       "      <td>1</td>\n",
       "      <td>313</td>\n",
       "      <td>...</td>\n",
       "      <td>1.0</td>\n",
       "      <td>0.0</td>\n",
       "      <td>1.0</td>\n",
       "      <td>0.0</td>\n",
       "      <td>0.0</td>\n",
       "      <td>0.0</td>\n",
       "      <td>0.0</td>\n",
       "      <td>0.0</td>\n",
       "      <td>0.0</td>\n",
       "      <td></td>\n",
       "    </tr>\n",
       "    <tr>\n",
       "      <th>4</th>\n",
       "      <td>b</td>\n",
       "      <td>1</td>\n",
       "      <td>3</td>\n",
       "      <td>3</td>\n",
       "      <td>22</td>\n",
       "      <td>0</td>\n",
       "      <td>0</td>\n",
       "      <td>0</td>\n",
       "      <td>0</td>\n",
       "      <td>313</td>\n",
       "      <td>...</td>\n",
       "      <td>1.0</td>\n",
       "      <td>1.0</td>\n",
       "      <td>0.0</td>\n",
       "      <td>0.0</td>\n",
       "      <td>0.0</td>\n",
       "      <td>0.0</td>\n",
       "      <td>0.0</td>\n",
       "      <td>1.0</td>\n",
       "      <td>0.0</td>\n",
       "      <td>Nonprofit</td>\n",
       "    </tr>\n",
       "  </tbody>\n",
       "</table>\n",
       "<p>5 rows × 65 columns</p>\n",
       "</div>"
      ],
      "text/plain": [
       "  id ad  education  ofjobs  yearsexp  honors  volunteer  military  empholes  \\\n",
       "0  b  1          4       2         6       0          0         0         1   \n",
       "1  b  1          3       3         6       0          1         1         0   \n",
       "2  b  1          4       1         6       0          0         0         0   \n",
       "3  b  1          3       4         6       0          1         0         1   \n",
       "4  b  1          3       3        22       0          0         0         0   \n",
       "\n",
       "   occupspecific    ...      compreq  orgreq  manuf  transcom  bankreal trade  \\\n",
       "0             17    ...          1.0     0.0    1.0       0.0       0.0   0.0   \n",
       "1            316    ...          1.0     0.0    1.0       0.0       0.0   0.0   \n",
       "2             19    ...          1.0     0.0    1.0       0.0       0.0   0.0   \n",
       "3            313    ...          1.0     0.0    1.0       0.0       0.0   0.0   \n",
       "4            313    ...          1.0     1.0    0.0       0.0       0.0   0.0   \n",
       "\n",
       "  busservice othservice  missind  ownership  \n",
       "0        0.0        0.0      0.0             \n",
       "1        0.0        0.0      0.0             \n",
       "2        0.0        0.0      0.0             \n",
       "3        0.0        0.0      0.0             \n",
       "4        0.0        1.0      0.0  Nonprofit  \n",
       "\n",
       "[5 rows x 65 columns]"
      ]
     },
     "execution_count": 3,
     "metadata": {},
     "output_type": "execute_result"
    }
   ],
   "source": [
    "data.head()"
   ]
  },
  {
   "cell_type": "markdown",
   "metadata": {},
   "source": [
    "### Dataset with resumes that received callbacks"
   ]
  },
  {
   "cell_type": "code",
   "execution_count": 4,
   "metadata": {},
   "outputs": [
    {
     "data": {
      "text/html": [
       "<div>\n",
       "<style scoped>\n",
       "    .dataframe tbody tr th:only-of-type {\n",
       "        vertical-align: middle;\n",
       "    }\n",
       "\n",
       "    .dataframe tbody tr th {\n",
       "        vertical-align: top;\n",
       "    }\n",
       "\n",
       "    .dataframe thead th {\n",
       "        text-align: right;\n",
       "    }\n",
       "</style>\n",
       "<table border=\"1\" class=\"dataframe\">\n",
       "  <thead>\n",
       "    <tr style=\"text-align: right;\">\n",
       "      <th></th>\n",
       "      <th>id</th>\n",
       "      <th>race</th>\n",
       "      <th>call</th>\n",
       "      <th>education</th>\n",
       "      <th>yearsexp</th>\n",
       "    </tr>\n",
       "  </thead>\n",
       "  <tbody>\n",
       "    <tr>\n",
       "      <th>85</th>\n",
       "      <td>b</td>\n",
       "      <td>w</td>\n",
       "      <td>1.0</td>\n",
       "      <td>2</td>\n",
       "      <td>7</td>\n",
       "    </tr>\n",
       "    <tr>\n",
       "      <th>95</th>\n",
       "      <td>b</td>\n",
       "      <td>w</td>\n",
       "      <td>1.0</td>\n",
       "      <td>2</td>\n",
       "      <td>4</td>\n",
       "    </tr>\n",
       "    <tr>\n",
       "      <th>105</th>\n",
       "      <td>b</td>\n",
       "      <td>w</td>\n",
       "      <td>1.0</td>\n",
       "      <td>4</td>\n",
       "      <td>6</td>\n",
       "    </tr>\n",
       "    <tr>\n",
       "      <th>107</th>\n",
       "      <td>b</td>\n",
       "      <td>b</td>\n",
       "      <td>1.0</td>\n",
       "      <td>4</td>\n",
       "      <td>6</td>\n",
       "    </tr>\n",
       "    <tr>\n",
       "      <th>126</th>\n",
       "      <td>b</td>\n",
       "      <td>b</td>\n",
       "      <td>1.0</td>\n",
       "      <td>4</td>\n",
       "      <td>9</td>\n",
       "    </tr>\n",
       "  </tbody>\n",
       "</table>\n",
       "</div>"
      ],
      "text/plain": [
       "    id race  call  education  yearsexp\n",
       "85   b    w   1.0          2         7\n",
       "95   b    w   1.0          2         4\n",
       "105  b    w   1.0          4         6\n",
       "107  b    b   1.0          4         6\n",
       "126  b    b   1.0          4         9"
      ]
     },
     "execution_count": 4,
     "metadata": {},
     "output_type": "execute_result"
    }
   ],
   "source": [
    "data_calls = data[['id','race','call', 'education', 'yearsexp']].loc[data['call']==1]\n",
    "data_calls.head()"
   ]
  },
  {
   "cell_type": "markdown",
   "metadata": {},
   "source": [
    "### Callbacks for white and black-sounding names  (a summary)"
   ]
  },
  {
   "cell_type": "code",
   "execution_count": 5,
   "metadata": {},
   "outputs": [
    {
     "name": "stdout",
     "output_type": "stream",
     "text": [
      "----------------------------------------------------------------------------------------------------------\n",
      "Total résumés = 4,870 \n",
      "Total callbacks = 392 calls (8.05% all CV)\n",
      "Resumes tagged with white-sounding names = 2,435 (50.00% all resumes)\n",
      "Resumes tagged with black-sounding names = 2,435 (50.00% all resumes)\n",
      "...\n",
      "...Callback for white-sounding name = 235 (9.65% resumes white-sounding names | 59.95% of all callbacks |)\n",
      "...Callback for black-sounding name = 157 (6.45% resumes black-sounding names | 40.05% of all callbacks |)\n",
      "...\n",
      "...Callback for white-sounding name is 33.19% greater than for black-sounding names\n",
      "----------------------------------------------------------------------------------------------------------\n"
     ]
    }
   ],
   "source": [
    "# total résumés in the dataset\n",
    "n = data.shape[0]\n",
    "\n",
    "#Totals: callbacks and resumes tagged white-sounding names and black-sounding names\n",
    "total_call = data['id'].loc[data['call'] ==1.0].count()\n",
    "total_w = data['id'].loc[data['race'] == 'w'].count()\n",
    "total_b = data['id'].loc[data['race'] == 'b'].count()\n",
    "\n",
    "#Callbacks / race-sounding name \n",
    "call_w = data['id'].loc[(data['race'] =='w') & (data['call'] ==1.0)].count()\n",
    "call_b = data['id'].loc[(data['race'] =='b') & (data['call'] ==1.0)].count()\n",
    "\n",
    "#Ratio callback / resumes (white and black-sounding names)\n",
    "ratio_w = call_w/total_w\n",
    "ratio_b = call_b/total_b\n",
    "\n",
    "# Summary\n",
    "print(\"----------------------------------------------------------------------------------------------------------\")\n",
    "print(\"Total résumés = %s \" % (format(n, ',')))\n",
    "print(\"Total callbacks = %d calls (%.2f%% all CV)\" % (total_call,(100*(total_call/n))))\n",
    "print(\"Resumes tagged with white-sounding names = %s (%.2f%% all resumes)\" %(format(total_w, ','), (100*(total_w/n))))\n",
    "print(\"Resumes tagged with black-sounding names = %s (%.2f%% all resumes)\" %(format(total_b, ','), (100*(total_b/n))))\n",
    "print(\"...\")\n",
    "print(\"...Callback for white-sounding name = %d (%.2f%% resumes white-sounding names | %.2f%% of all callbacks |)\" % (call_w, (100*ratio_w), (100*(call_w/total_call))))\n",
    "print(\"...Callback for black-sounding name = %d (%.2f%% resumes black-sounding names | %.2f%% of all callbacks |)\" % (call_b, (100*ratio_b),(100*(call_b/total_call))))\n",
    "print(\"...\")\n",
    "print(\"...Callback for white-sounding name is %.2f%% greater than for black-sounding names\" % (100*((ratio_w - ratio_b)/ratio_w)))\n",
    "print(\"----------------------------------------------------------------------------------------------------------\")"
   ]
  },
  {
   "cell_type": "markdown",
   "metadata": {},
   "source": [
    "#### A cross tabulation (*crosstab*) - a special case of Pivot Tabel - that summarize callbacks/race:"
   ]
  },
  {
   "cell_type": "code",
   "execution_count": 6,
   "metadata": {},
   "outputs": [
    {
     "data": {
      "text/html": [
       "<div>\n",
       "<style scoped>\n",
       "    .dataframe tbody tr th:only-of-type {\n",
       "        vertical-align: middle;\n",
       "    }\n",
       "\n",
       "    .dataframe tbody tr th {\n",
       "        vertical-align: top;\n",
       "    }\n",
       "\n",
       "    .dataframe thead th {\n",
       "        text-align: right;\n",
       "    }\n",
       "</style>\n",
       "<table border=\"1\" class=\"dataframe\">\n",
       "  <thead>\n",
       "    <tr style=\"text-align: right;\">\n",
       "      <th>race</th>\n",
       "      <th>b</th>\n",
       "      <th>w</th>\n",
       "      <th>All</th>\n",
       "    </tr>\n",
       "    <tr>\n",
       "      <th>call</th>\n",
       "      <th></th>\n",
       "      <th></th>\n",
       "      <th></th>\n",
       "    </tr>\n",
       "  </thead>\n",
       "  <tbody>\n",
       "    <tr>\n",
       "      <th>0.0</th>\n",
       "      <td>2278</td>\n",
       "      <td>2200</td>\n",
       "      <td>4478</td>\n",
       "    </tr>\n",
       "    <tr>\n",
       "      <th>1.0</th>\n",
       "      <td>157</td>\n",
       "      <td>235</td>\n",
       "      <td>392</td>\n",
       "    </tr>\n",
       "    <tr>\n",
       "      <th>All</th>\n",
       "      <td>2435</td>\n",
       "      <td>2435</td>\n",
       "      <td>4870</td>\n",
       "    </tr>\n",
       "  </tbody>\n",
       "</table>\n",
       "</div>"
      ],
      "text/plain": [
       "race     b     w   All\n",
       "call                  \n",
       "0.0   2278  2200  4478\n",
       "1.0    157   235   392\n",
       "All   2435  2435  4870"
      ]
     },
     "execution_count": 6,
     "metadata": {},
     "output_type": "execute_result"
    }
   ],
   "source": [
    "pd.crosstab(data.call, data.race, margins=True)"
   ]
  },
  {
   "cell_type": "markdown",
   "metadata": {},
   "source": [
    "### Callbacks/race: a visual presentation"
   ]
  },
  {
   "cell_type": "code",
   "execution_count": 7,
   "metadata": {},
   "outputs": [
    {
     "data": {
      "image/png": "[encoded data removed]",
      "text/plain": [
       "<matplotlib.figure.Figure at 0x10b97fe80>"
      ]
     },
     "metadata": {},
     "output_type": "display_data"
    }
   ],
   "source": [
    "sns.set(style=\"whitegrid\")\n",
    "cross_tab = pd.crosstab(data.race, data.call)\n",
    "cross_tab.plot.bar(stacked=True)\n",
    "plt.legend(title='Callback')\n",
    "plt.show()"
   ]
  },
  {
   "cell_type": "markdown",
   "metadata": {
    "collapsed": true
   },
   "source": [
    "### 1.What test is appropriate for this problem? Does CLT apply?"
   ]
  },
  {
   "cell_type": "markdown",
   "metadata": {},
   "source": [
    "- We have a problem with variables that represents ***categorical values***: 'b', 'w'.<br>\n",
    "- The question is about the the influence of race in the **rate** of callbacks: \"...*whether race has a significant impact on the **rate** of callbacks for resumes..*\"<br>\n",
    "- The appropriate test is **two sample z-test** for **proportions**."
   ]
  },
  {
   "cell_type": "markdown",
   "metadata": {},
   "source": [
    "#### Does CLT apply?\n",
    "Yes. "
   ]
  },
  {
   "cell_type": "markdown",
   "metadata": {},
   "source": [
    "### 2.What are the null and alternate hypotheses?"
   ]
  },
  {
   "cell_type": "markdown",
   "metadata": {},
   "source": [
    "#### The investigative question:  *The race - identify with a white or black-sounding names in resumes - has a significant impact on the rate of callbacks for resumes*?\n",
    "#### So far we have the following proportion for callbacks:"
   ]
  },
  {
   "cell_type": "code",
   "execution_count": 8,
   "metadata": {},
   "outputs": [
    {
     "name": "stdout",
     "output_type": "stream",
     "text": [
      "+------------------------------+---------------------------+\n",
      "| Resumes               Total  | 4,870                     |\n",
      "|         white-sounding names | 2,435                     |\n",
      "|         black-sounding names | 2,435                     |\n",
      "+------------------------------+---------------------------+\n",
      "| Callbacks (total)            | 392 calls (8.05% all CV)  |\n",
      "|------------------------------|---------------------------|\n",
      "| Call for white-sounding name | 235 (9.65% ws* resumes)   |\n",
      "| Call for black-sounding name | 157 (6.45% bs* resumes)   |\n",
      "+------------------------------+---------------------------+\n",
      "* ws= resumes with white-sounding names  | bs= resumes with black-sounding names\n",
      "\n",
      "Callback for white-sounding name is 33.19% greater than for black-sounding names\n"
     ]
    }
   ],
   "source": [
    "print(\"+------------------------------+---------------------------+\")\n",
    "print(\"| Resumes               Total  | %s                     |\" % (format(n,',')))\n",
    "print(\"|         white-sounding names | %s                     |\" % format(total_w, ','))\n",
    "print(\"|         black-sounding names | %s                     |\" % format(total_b, ','))\n",
    "print(\"+------------------------------+---------------------------+\")\n",
    "print(\"| Callbacks (total)            | %d calls (%.2f%% all CV)  |\" % (total_call,(100*(total_call/n))))\n",
    "print(\"|------------------------------|---------------------------|\")\n",
    "print(\"| Call for white-sounding name | %d (%.2f%% ws* resumes)   |\" % (call_w, 100*ratio_w))\n",
    "print(\"| Call for black-sounding name | %d (%.2f%% bs* resumes)   |\" % (call_b, 100*ratio_b))\n",
    "print(\"+------------------------------+---------------------------+\")\n",
    "print(\"* ws= resumes with white-sounding names  | bs= resumes with black-sounding names\")\n",
    "print(\"\")\n",
    "print(\"Callback for white-sounding name is %.2f%% greater than for black-sounding names\" % (100*((ratio_w - ratio_b)/ratio_w)))"
   ]
  },
  {
   "cell_type": "markdown",
   "metadata": {},
   "source": [
    "### Hypothesis:"
   ]
  },
  {
   "cell_type": "markdown",
   "metadata": {},
   "source": [
    "#### 2.1 Null hypothesis: **H0 => \"Race has NOT a significant impact on the rate of callbacks for résumés\"**. In other words, the **rate** or **proportion** between callbacks for white and black-sounding names is the same: **50%**."
   ]
  },
  {
   "cell_type": "markdown",
   "metadata": {},
   "source": [
    "#### 2.2 - Alternative hypothesis: **Ha => \"Race has a significant impact on the rate of callbacks for résumés\"**. In other words, the **rate** or **proportion** between callbacks for white and black-sounding names is not the same: **not equal to 50%**."
   ]
  },
  {
   "cell_type": "markdown",
   "metadata": {},
   "source": [
    "### 3. Compute margin of error, confidence interval, and p-value"
   ]
  },
  {
   "cell_type": "markdown",
   "metadata": {},
   "source": [
    "![estimate](images/img_estimate.png)"
   ]
  },
  {
   "cell_type": "markdown",
   "metadata": {},
   "source": [
    "### Confidence Interval for the Difference of Two Population Proportions:"
   ]
  },
  {
   "cell_type": "markdown",
   "metadata": {},
   "source": [
    "![confidence interval for proportions](images/img_ci_forproportion.png)"
   ]
  },
  {
   "cell_type": "markdown",
   "metadata": {},
   "source": [
    "### Where:\n",
    "\n",
    "#### Note: we are considering that we hava a confidence level : 95%. Thus, alpha level (alpha) = 5%. The z-score associated with a 5% alpha level / 2 is Z = 1.96"
   ]
  },
  {
   "cell_type": "code",
   "execution_count": 9,
   "metadata": {},
   "outputs": [
    {
     "name": "stdout",
     "output_type": "stream",
     "text": [
      "+----|-------|---------------------------------------+\n",
      "| p1 | 9.65% | % callback / total resumes ws*        |\n",
      "|----|-------|---------------------------------------|\n",
      "| p2 | 6.45% | % callback / total resumes bs*        |\n",
      "|----|-------|---------------------------------------|\n",
      "| Z  | %.2f  | Z value, based on 95% confidence level|\n",
      "|----|-------|---------------------------------------|\n",
      "| n1 | 2,435 | total resumes ws*                     |\n",
      "|----|-------|---------------------------------------|\n",
      "| n2 | 2,435 | total resumes bs*                     |\n",
      "+----|-------|---------------------------------------+\n",
      "\n",
      "* ws= resumes with white-sounding names  | bs= resumes with black-sounding names\n",
      "\n"
     ]
    }
   ],
   "source": [
    "#Ratio callback / resumes (white and black-sounding names)\n",
    "#Ratios were calculated above\n",
    "p1 = ratio_w\n",
    "p2 = ratio_b\n",
    "\n",
    "# Z value (see note above)\n",
    "Z_SCORE = 1.96\n",
    "\n",
    "# Total resumes with white-sounding names\n",
    "n1 = total_w\n",
    "\n",
    "# Total resumes with black-sounding names\n",
    "n2 = total_b\n",
    "\n",
    "print(\"+----|-------|---------------------------------------+\")\n",
    "print(\"| p1 | %.2f%% | %% callback / total resumes ws*        |\" % (100*p1))\n",
    "print(\"|----|-------|---------------------------------------|\")\n",
    "print(\"| p2 | %.2f%% | %% callback / total resumes bs*        |\" % (100*p2))\n",
    "print(\"|----|-------|---------------------------------------|\")\n",
    "print(\"| Z  | %.2f  | Z value, based on 95% confidence level|\")\n",
    "print(\"|----|-------|---------------------------------------|\")\n",
    "print(\"| n1 | %s | total resumes ws*                     |\" % format(total_w, ','))\n",
    "print(\"|----|-------|---------------------------------------|\")\n",
    "print(\"| n2 | %s | total resumes bs*                     |\" % format(total_b, ',')) \n",
    "print(\"+----|-------|---------------------------------------+\")\n",
    "print(\"\")\n",
    "print(\"* ws= resumes with white-sounding names  | bs= resumes with black-sounding names\")\n",
    "print(\"\")"
   ]
  },
  {
   "cell_type": "markdown",
   "metadata": {},
   "source": [
    "### So, the Confidence Interval for the Difference of Two Population Proportions (p1 - p2):"
   ]
  },
  {
   "cell_type": "code",
   "execution_count": 10,
   "metadata": {},
   "outputs": [
    {
     "name": "stdout",
     "output_type": "stream",
     "text": [
      "Estimate = 0.0320 \n",
      "Margin of Error = 0.0153\n",
      "------------------------------------------\n",
      "Estimate 0.0320 +/- 0.0153\n",
      "Interval: (0.0168, 0.0473)\n"
     ]
    }
   ],
   "source": [
    "estimate = (p1-p2)\n",
    "margin_of_error = Z_SCORE * np.sqrt(((p1*(1-p1))/n1)+((p2*(1-p2))/n2))\n",
    "low_value   = estimate - margin_of_error\n",
    "high_value = estimate + margin_of_error\n",
    "print(\"Estimate = %.4f \" %estimate)\n",
    "print(\"Margin of Error = %.4f\" %margin_of_error)\n",
    "print(\"------------------------------------------\")\n",
    "print(\"Estimate %.4f +/- %.4f\" %(estimate, margin_of_error))\n",
    "print(\"Interval: (%.4f, %.4f)\" %(low_value, high_value))"
   ]
  },
  {
   "cell_type": "markdown",
   "metadata": {},
   "source": [
    "### The Ho *null* hypothesis is True of False?"
   ]
  },
  {
   "cell_type": "markdown",
   "metadata": {},
   "source": [
    "![std error and z value](images/img_z_formula_stderror.png)"
   ]
  },
  {
   "cell_type": "markdown",
   "metadata": {},
   "source": [
    "#### Calculating the SEo(p1 - p2):"
   ]
  },
  {
   "cell_type": "code",
   "execution_count": 11,
   "metadata": {},
   "outputs": [
    {
     "name": "stdout",
     "output_type": "stream",
     "text": [
      "P-hat: p = 0.0805\n",
      "SEo: std_error = 0.0078\n",
      "+------------------------+\n",
      "| Z   | 4.1084           |\n",
      "+------------------------+\n"
     ]
    }
   ],
   "source": [
    "# P-hat, p = (x1+x2)/(n1+n2)\n",
    "p = (call_w + call_b)/(total_w+total_b)\n",
    "\n",
    "# SEo (see formula above)\n",
    "std_error = np.sqrt((p*(1-p))*((1/total_w) + (1/total_b)))\n",
    "\n",
    "# Z value = (p1-p2) / SEo\n",
    "z_value = (ratio_w - ratio_b)/ std_error\n",
    "\n",
    "print(\"P-hat: p = %.4f\" %p)\n",
    "print(\"SEo: std_error = %.4f\" %std_error)\n",
    "print(\"+------------------------+\")\n",
    "print(\"| Z   | %.4f           |\" %z_value )\n",
    "print(\"+------------------------+\")"
   ]
  },
  {
   "cell_type": "markdown",
   "metadata": {},
   "source": [
    "* p-value"
   ]
  },
  {
   "cell_type": "code",
   "execution_count": null,
   "metadata": {},
   "outputs": [],
   "source": []
  },
  {
   "cell_type": "code",
   "execution_count": null,
   "metadata": {},
   "outputs": [],
   "source": []
  },
  {
   "cell_type": "code",
   "execution_count": 12,
   "metadata": {},
   "outputs": [
    {
     "name": "stdout",
     "output_type": "stream",
     "text": [
      "False: we reject the null hypothesis!\n"
     ]
    }
   ],
   "source": [
    "if(z_value > Z_SCORE): \n",
    "    print(\"False: we reject the null hypothesis!\")\n",
    "else:\n",
    "    print(\"True: we accept the null hypothesis!\")"
   ]
  },
  {
   "cell_type": "markdown",
   "metadata": {},
   "source": [
    "### Conclusion:\n",
    "#### => There is evidence that race do impact on the rate of callbacks."
   ]
  },
  {
   "cell_type": "markdown",
   "metadata": {},
   "source": [
    "### 4. Write a story describing the statistical significance in the context or the original problem."
   ]
  },
  {
   "cell_type": "markdown",
   "metadata": {},
   "source": [
    "According to this definition[7]: *In statistical hypothesis testing, **a result has statistical significance when it is very unlikely to have occurred given the null hypothesis** *. In other words, Statistical Significance means the effect observed in the sample - greater callbacks (+33%) for white-sounding names - was unlikely to have occurred due to chance alone.\n",
    "\n",
    "The races - 'b' and 'w' - were randomly tagged on résumés, before to be sent to the employer.\n",
    "\n",
    "So, ...\n"
   ]
  },
  {
   "cell_type": "markdown",
   "metadata": {},
   "source": [
    "### 5. Does your analysis mean that race/name is the most important factor in callback success? Why or why not? If not, how would you amend your analysis?"
   ]
  },
  {
   "cell_type": "markdown",
   "metadata": {},
   "source": [
    "The analysis presented does not checked how other important variables could impact in the decision to callback or not a specific candidate; e.g.: education, years of experience, specific occupation  etc."
   ]
  },
  {
   "cell_type": "markdown",
   "metadata": {},
   "source": [
    "## References:"
   ]
  },
  {
   "cell_type": "markdown",
   "metadata": {},
   "source": [
    "[1] \"Statistics in a Nutshell\", Boslaugh S., Watters A., O'Reilly (2008): https://www.amazon.com/Statistics-Nutshell-Desktop-Reference-OReilly/dp/0596510497/ref=sr_1_2?ie=UTF8&qid=1517168318&sr=8-2&keywords=Statistics+in+a+Nutshell%22%2C+Boslaugh "
   ]
  },
  {
   "cell_type": "markdown",
   "metadata": {},
   "source": [
    "[2] Documentation of \"Scipy.Stats.TTest_ind\": https://docs.scipy.org/doc/scipy/reference/generated/scipy.stats.ttest_ind.html#scipy.stats.ttest_ind "
   ]
  },
  {
   "cell_type": "markdown",
   "metadata": {},
   "source": [
    "[3] \"**Distribution of the Difference Between two Proportions**\". Link: http://www.kean.edu/~fosborne/bstat/05d2pops.html. Last access: 02/03/2018"
   ]
  },
  {
   "cell_type": "markdown",
   "metadata": {},
   "source": [
    "[4] **Z Test and Two proportion Z-Test**\". Link: http://www.statisticshowto.com/z-test/"
   ]
  },
  {
   "cell_type": "markdown",
   "metadata": {},
   "source": [
    "[5]\"**Proportion Z Test**\", video on YouTube: https://youtu.be/Pkyb05DZdZg. Last access: 02/03/2018"
   ]
  },
  {
   "cell_type": "markdown",
   "metadata": {},
   "source": [
    "[6] \"**Working with Data Using pandas and Python 3**\". Link: https://www.digitalocean.com/community/tutorials/working-with-data-using-pandas-and-python-3. Last access: 02/03/2018 "
   ]
  },
  {
   "cell_type": "markdown",
   "metadata": {},
   "source": [
    "[7] \"**Statistical significance**\", definition on Wikipedia. Link: https://en.wikipedia.org/wiki/Statistical_significance. Last access: 02/05/2018 "
   ]
  },
  {
   "cell_type": "markdown",
   "metadata": {},
   "source": [
    "[8] Video \"Confidence Interval for the Difference Between Proportions\": https://www.youtube.com/watch?v=0h8dgKTOPuM. Last access: 02/12/2018"
   ]
  },
  {
   "cell_type": "markdown",
   "metadata": {},
   "source": [
    "[9] \"Inference for Two Proportions: An Example of a Confidence Interval and a Hypothesis Test\". Video: https://youtu.be/OIYkOiQX3fk. Last access: 02/13/2018"
   ]
  },
  {
   "cell_type": "markdown",
   "metadata": {},
   "source": [
    "## Sandbox:"
   ]
  },
  {
   "cell_type": "code",
   "execution_count": 13,
   "metadata": {},
   "outputs": [
    {
     "data": {
      "image/png": "[encoded data removed]",
      "text/plain": [
       "<matplotlib.figure.Figure at 0x10bc02e48>"
      ]
     },
     "metadata": {},
     "output_type": "display_data"
    }
   ],
   "source": [
    "# A simple visual presentation with the total callbacks/race-sounding names \n",
    "sns.set(style=\"darkgrid\")\n",
    "ax = sns.countplot(x=\"race\", data=data_calls[['race', 'call']])"
   ]
  },
  {
   "cell_type": "markdown",
   "metadata": {},
   "source": [
    "### Margin of error and confidence intervals for 'w' and 'b' groups"
   ]
  },
  {
   "cell_type": "markdown",
   "metadata": {},
   "source": [
    "* White-sounding names"
   ]
  },
  {
   "cell_type": "code",
   "execution_count": 14,
   "metadata": {},
   "outputs": [
    {
     "name": "stdout",
     "output_type": "stream",
     "text": [
      "White-sounding names:\n",
      "---------------------\n",
      "Mean:  0.09650924024640657\n",
      "Margin of error:  0.01658700182375531\n",
      "---------------------\n",
      "Confidence interval: \n",
      "...From = 0.08\n",
      "...To   = 0.11\n"
     ]
    }
   ],
   "source": [
    "margin_error = Z_SCORE * np.sqrt((p1*(1-p1))*(1/n1 + 1/n2))\n",
    "low_critical_value = p1 - margin_error\n",
    "high_critical_value = p1 + margin_error\n",
    "print(\"White-sounding names:\")\n",
    "print(\"---------------------\")\n",
    "print(\"Mean: \", p1)\n",
    "print(\"Margin of error: \", margin_error)\n",
    "print(\"---------------------\")\n",
    "print(\"Confidence interval: \")\n",
    "print(\"...From = %.2f\" %low_critical_value)\n",
    "print(\"...To   = %.2f\" %high_critical_value)"
   ]
  },
  {
   "cell_type": "markdown",
   "metadata": {},
   "source": [
    "* Black-sounding names"
   ]
  },
  {
   "cell_type": "code",
   "execution_count": 15,
   "metadata": {},
   "outputs": [
    {
     "name": "stdout",
     "output_type": "stream",
     "text": [
      "Black-sounding names:\n",
      "---------------------\n",
      "Mean:  0.09650924024640657\n",
      "Margin of error:  0.013795876786165097\n",
      "---------------------\n",
      "Confidence interval: \n",
      "...From = 0.05\n",
      "...To   = 0.08\n"
     ]
    }
   ],
   "source": [
    "margin_error = Z_SCORE * np.sqrt((p2*(1-p2))*(1/n1 + 1/n2))\n",
    "low_critical_value = p2 - margin_error\n",
    "high_critical_value = p2 + margin_error\n",
    "print(\"Black-sounding names:\")\n",
    "print(\"---------------------\")\n",
    "print(\"Mean: \", p1)\n",
    "print(\"Margin of error: \", margin_error)\n",
    "print(\"---------------------\")\n",
    "print(\"Confidence interval: \")\n",
    "print(\"...From = %.2f\" %low_critical_value)\n",
    "print(\"...To   = %.2f\" %high_critical_value)"
   ]
  },
  {
   "cell_type": "markdown",
   "metadata": {},
   "source": [
    "### Investigation: is there any relation between white/black-sounding names and education versus years of experience?"
   ]
  },
  {
   "cell_type": "code",
   "execution_count": 16,
   "metadata": {},
   "outputs": [
    {
     "data": {
      "text/plain": [
       "<seaborn.axisgrid.FacetGrid at 0x10b9c87b8>"
      ]
     },
     "execution_count": 16,
     "metadata": {},
     "output_type": "execute_result"
    },
    {
     "data": {
      "image/png": "[encoded data removed]",
      "text/plain": [
       "<matplotlib.figure.Figure at 0x10b9c8fd0>"
      ]
     },
     "metadata": {},
     "output_type": "display_data"
    }
   ],
   "source": [
    "sns.set()\n",
    "\n",
    "# Plot tip as a function of toal bill across days\n",
    "g = sns.lmplot(x=\"yearsexp\", y=\"education\", hue=\"race\",\n",
    "               truncate=True, size=7, data=data_calls)\n",
    "\n",
    "# Use more informative axis labels than are provided by default\n",
    "g.set_axis_labels(\"Years of experience\", \"Years of formal education\")"
   ]
  },
  {
   "cell_type": "markdown",
   "metadata": {},
   "source": [
    "### Summary:"
   ]
  },
  {
   "cell_type": "code",
   "execution_count": 17,
   "metadata": {},
   "outputs": [
    {
     "name": "stdout",
     "output_type": "stream",
     "text": [
      "Total résumés with callback = 392\n",
      "---------------------------------\n",
      "Perc.(%) white-sounding names from total = 50.00%\n",
      "Perc.(%) black-sounding names from total = 50.00%\n",
      "---------------------------------\n",
      "Perc.(%) white-sounding names from callbacks = 59.95%\n",
      "Perc.(%) black-sounding names from total = 40.05%\n",
      "---------------------------------\n"
     ]
    }
   ],
   "source": [
    "# Total résumés\n",
    "n = data.shape[0]\n",
    "\n",
    "# Total callbacks\n",
    "n_call = data_calls.shape[0]\n",
    "\n",
    "# Résumés white and black sounding names\n",
    "total_white = data['id'].loc[(data['race'] =='w')].count()\n",
    "total_black = data['id'].loc[(data['race'] =='b')].count()\n",
    "\n",
    "# Perc.(%) white and black sounding names from total\n",
    "perc_tot_white = total_white/n\n",
    "perc_tot_black = total_black/n\n",
    "\n",
    "# Perc.(%) white and black sounding names with callback\n",
    "perc_call_white = call_w/n_call\n",
    "perc_call_black = call_b/n_call\n",
    "\n",
    "print(\"Total résumés with callback = %d\" %n_call)\n",
    "print(\"---------------------------------\")\n",
    "print(\"Perc.(%%) white-sounding names from total = %.2f%%\" %(perc_tot_white*100))\n",
    "print(\"Perc.(%%) black-sounding names from total = %.2f%%\" %(perc_tot_black*100))\n",
    "print(\"---------------------------------\")\n",
    "print(\"Perc.(%%) white-sounding names from callbacks = %.2f%%\" %(perc_call_white*100))\n",
    "print(\"Perc.(%%) black-sounding names from total = %.2f%%\" %(perc_call_black*100))\n",
    "print(\"---------------------------------\")"
   ]
  },
  {
   "cell_type": "code",
   "execution_count": null,
   "metadata": {},
   "outputs": [],
   "source": []
  }
 ],
 "metadata": {
  "kernelspec": {
   "display_name": "Python 3",
   "language": "python",
   "name": "python3"
  },
  "language_info": {
   "codemirror_mode": {
    "name": "ipython",
    "version": 3
   },
   "file_extension": ".py",
   "mimetype": "text/x-python",
   "name": "python",
   "nbconvert_exporter": "python",
   "pygments_lexer": "ipython3",
   "version": "3.6.4"
  }
 },
 "nbformat": 4,
 "nbformat_minor": 1
}
