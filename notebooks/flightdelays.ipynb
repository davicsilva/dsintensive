{
 "cells": [
  {
   "cell_type": "markdown",
   "metadata": {},
   "source": [
    "# Flight Delays (Brazil)\n",
    "\n",
    "The microdata from ANAC [(National Agency for Civil Aviation)](http://www.anac.gov.br/assuntos/dados-e-estatisticas/historico-de-voos) contains all flights that departure from brazilian airports.\n",
    "\n",
    "ANAC has available to download flight data from jan,2000 to aug,2017: [http://www.anac.gov.br/assuntos/dados-e-estatisticas/historico-de-voos](http://www.anac.gov.br/assuntos/dados-e-estatisticas/historico-de-voos).\n",
    "\n",
    "In Brazil, it is estimated that 20% of the flights have some kind of delay[1].\n",
    "\n",
    "[1] \n",
    "---"
   ]
  },
  {
   "cell_type": "code",
   "execution_count": null,
   "metadata": {
    "collapsed": true
   },
   "outputs": [],
   "source": []
  }
 ],
 "metadata": {
  "kernelspec": {
   "display_name": "Python 3",
   "language": "python",
   "name": "python3"
  },
  "language_info": {
   "codemirror_mode": {
    "name": "ipython",
    "version": 3
   },
   "file_extension": ".py",
   "mimetype": "text/x-python",
   "name": "python",
   "nbconvert_exporter": "python",
   "pygments_lexer": "ipython3",
   "version": "3.6.1"
  }
 },
 "nbformat": 4,
 "nbformat_minor": 2
}
