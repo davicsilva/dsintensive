{
 "cells": [
  {
   "cell_type": "markdown",
   "metadata": {},
   "source": [
    "# Capstone Project - Flight Delays\n",
    "# Does weather events have impact the delay of flights (Brazil)?"
   ]
  },
  {
   "cell_type": "markdown",
   "metadata": {},
   "source": [
    "### It is important to see this notebook with the step-by-step of the dataset cleaning process:\n",
    "[https://github.com/davicsilva/dsintensive/blob/master/notebooks/flightDelayPrepData_v2.ipynb](https://github.com/davicsilva/dsintensive/blob/master/notebooks/flightDelayPrepData_v2.ipynb)"
   ]
  },
  {
   "cell_type": "code",
   "execution_count": 2,
   "metadata": {},
   "outputs": [],
   "source": [
    "from datetime import datetime\n",
    "\n",
    "# Pandas and NumPy\n",
    "import pandas as pd\n",
    "import numpy as np\n",
    "\n",
    "# Matplotlib for additional customization\n",
    "from matplotlib import pyplot as plt\n",
    "%matplotlib inline\n",
    "\n",
    "# Seaborn for plotting and styling\n",
    "import seaborn as sns"
   ]
  },
  {
   "cell_type": "code",
   "execution_count": 3,
   "metadata": {},
   "outputs": [],
   "source": [
    "# 1. Flight delay: any flight with (real_departure - planned_departure >= 15 minutes)\n",
    "# 2. The Brazilian Federal Agency for Civil Aviation (ANAC) does not define exactly what is a \"flight delay\" (in minutes)\n",
    "# 3. Anyway, the ANAC has a resolution for this subject: https://goo.gl/YBwbMy (last access: nov, 15th, 2017)\n",
    "# ---\n",
    "# DELAY, for this analysis, is defined as greater than 15 minutes (local flights only)\n",
    "DELAY = 15"
   ]
  },
  {
   "cell_type": "markdown",
   "metadata": {},
   "source": [
    "### 1 - Dataset: sample of local flights dataset (700 records)"
   ]
  },
  {
   "cell_type": "code",
   "execution_count": 4,
   "metadata": {},
   "outputs": [],
   "source": [
    "# Dataset: a sample with 700 records with flights that occurred in the beginning of 2017 (January to June)\n",
    "flights = pd.read_csv('data/arf2017ISO-sample.csv', sep = ';', dtype = str)"
   ]
  },
  {
   "cell_type": "code",
   "execution_count": 5,
   "metadata": {},
   "outputs": [],
   "source": [
    "# Using \"lambda\" to format \"date\" columns to ISO format: YYYY-MM-DD hh:mm:ss\n",
    "flights['departure-est'] = flights[['departure-est']].apply(lambda row: row.str.replace(\"(?P<day>\\d{2})/(?P<month>\\d{2})/(?P<year>\\d{4}) (?P<HOUR>\\d{2}):(?P<MIN>\\d{2})\", \"\\g<year>/\\g<month>/\\g<day> \\g<HOUR>:\\g<MIN>:00\"), axis=1)\n",
    "flights['departure-real'] = flights[['departure-real']].apply(lambda row: row.str.replace(\"(?P<day>\\d{2})/(?P<month>\\d{2})/(?P<year>\\d{4}) (?P<HOUR>\\d{2}):(?P<MIN>\\d{2})\", \"\\g<year>/\\g<month>/\\g<day> \\g<HOUR>:\\g<MIN>:00\"), axis=1)\n",
    "flights['arrival-est'] = flights[['arrival-est']].apply(lambda row: row.str.replace(\"(?P<day>\\d{2})/(?P<month>\\d{2})/(?P<year>\\d{4}) (?P<HOUR>\\d{2}):(?P<MIN>\\d{2})\", \"\\g<year>/\\g<month>/\\g<day> \\g<HOUR>:\\g<MIN>:00\"), axis=1)\n",
    "flights['arrival-real'] = flights[['arrival-real']].apply(lambda row: row.str.replace(\"(?P<day>\\d{2})/(?P<month>\\d{2})/(?P<year>\\d{4}) (?P<HOUR>\\d{2}):(?P<MIN>\\d{2})\", \"\\g<year>/\\g<month>/\\g<day> \\g<HOUR>:\\g<MIN>:00\"), axis=1)"
   ]
  },
  {
   "cell_type": "code",
   "execution_count": 6,
   "metadata": {},
   "outputs": [],
   "source": [
    "# Departure and Arrival columns: from 'object' to 'date' format\n",
    "flights['departure-est'] = pd.to_datetime(flights['departure-est'],errors='ignore')\n",
    "flights['departure-real'] = pd.to_datetime(flights['departure-real'],errors='ignore')\n",
    "flights['arrival-est'] = pd.to_datetime(flights['arrival-est'],errors='ignore')\n",
    "flights['arrival-real'] = pd.to_datetime(flights['arrival-real'],errors='ignore')"
   ]
  },
  {
   "cell_type": "code",
   "execution_count": 7,
   "metadata": {},
   "outputs": [],
   "source": [
    "# translate the flight status from portuguese to english\n",
    "flights['flight-status'] = flights[['flight-status']].apply(lambda row: row.str.replace(\"REALIZADO\", \"ACCOMPLISHED\"), axis=1)\n",
    "flights['flight-status'] = flights[['flight-status']].apply(lambda row: row.str.replace(\"CANCELADO\", \"CANCELED\"), axis=1)"
   ]
  },
  {
   "cell_type": "code",
   "execution_count": 8,
   "metadata": {},
   "outputs": [
    {
     "data": {
      "text/html": [
       "<div>\n",
       "<style scoped>\n",
       "    .dataframe tbody tr th:only-of-type {\n",
       "        vertical-align: middle;\n",
       "    }\n",
       "\n",
       "    .dataframe tbody tr th {\n",
       "        vertical-align: top;\n",
       "    }\n",
       "\n",
       "    .dataframe thead th {\n",
       "        text-align: right;\n",
       "    }\n",
       "</style>\n",
       "<table border=\"1\" class=\"dataframe\">\n",
       "  <thead>\n",
       "    <tr style=\"text-align: right;\">\n",
       "      <th></th>\n",
       "      <th>departure-est</th>\n",
       "      <th>departure-real</th>\n",
       "      <th>arrival-est</th>\n",
       "      <th>arrival-real</th>\n",
       "      <th>flight-status</th>\n",
       "    </tr>\n",
       "  </thead>\n",
       "  <tbody>\n",
       "    <tr>\n",
       "      <th>0</th>\n",
       "      <td>2017-01-02 01:20:00</td>\n",
       "      <td>2017-01-02 01:20:00</td>\n",
       "      <td>2017-01-02 09:00:00</td>\n",
       "      <td>2017-01-02 09:00:00</td>\n",
       "      <td>ACCOMPLISHED</td>\n",
       "    </tr>\n",
       "    <tr>\n",
       "      <th>1</th>\n",
       "      <td>2017-01-24 01:20:00</td>\n",
       "      <td>2017-01-24 01:20:00</td>\n",
       "      <td>2017-01-24 09:00:00</td>\n",
       "      <td>2017-01-24 09:00:00</td>\n",
       "      <td>ACCOMPLISHED</td>\n",
       "    </tr>\n",
       "    <tr>\n",
       "      <th>2</th>\n",
       "      <td>2017-01-29 01:20:00</td>\n",
       "      <td>2017-01-29 01:20:00</td>\n",
       "      <td>2017-01-29 09:00:00</td>\n",
       "      <td>2017-01-29 09:00:00</td>\n",
       "      <td>ACCOMPLISHED</td>\n",
       "    </tr>\n",
       "  </tbody>\n",
       "</table>\n",
       "</div>"
      ],
      "text/plain": [
       "        departure-est      departure-real         arrival-est  \\\n",
       "0 2017-01-02 01:20:00 2017-01-02 01:20:00 2017-01-02 09:00:00   \n",
       "1 2017-01-24 01:20:00 2017-01-24 01:20:00 2017-01-24 09:00:00   \n",
       "2 2017-01-29 01:20:00 2017-01-29 01:20:00 2017-01-29 09:00:00   \n",
       "\n",
       "         arrival-real flight-status  \n",
       "0 2017-01-02 09:00:00  ACCOMPLISHED  \n",
       "1 2017-01-24 09:00:00  ACCOMPLISHED  \n",
       "2 2017-01-29 09:00:00  ACCOMPLISHED  "
      ]
     },
     "execution_count": 8,
     "metadata": {},
     "output_type": "execute_result"
    }
   ],
   "source": [
    "flights[[\"departure-est\", \"departure-real\", \"arrival-est\", \"arrival-real\", \"flight-status\"]].head(3)"
   ]
  },
  {
   "cell_type": "markdown",
   "metadata": {},
   "source": [
    "## Some EDA's tasks"
   ]
  },
  {
   "cell_type": "markdown",
   "metadata": {},
   "source": [
    "### Flights/airports"
   ]
  },
  {
   "cell_type": "code",
   "execution_count": 9,
   "metadata": {},
   "outputs": [],
   "source": [
    "# See: https://stackoverflow.com/questions/37287938/sort-pandas-dataframe-by-value \n",
    "df_departures = flights.groupby(['airport-A']).size().reset_index(name='number_departures')"
   ]
  },
  {
   "cell_type": "code",
   "execution_count": 10,
   "metadata": {},
   "outputs": [],
   "source": [
    "df_departures.sort_values(by=['number_departures'], ascending=False, inplace=True)"
   ]
  },
  {
   "cell_type": "code",
   "execution_count": 11,
   "metadata": {},
   "outputs": [
    {
     "data": {
      "text/html": [
       "<div>\n",
       "<style scoped>\n",
       "    .dataframe tbody tr th:only-of-type {\n",
       "        vertical-align: middle;\n",
       "    }\n",
       "\n",
       "    .dataframe tbody tr th {\n",
       "        vertical-align: top;\n",
       "    }\n",
       "\n",
       "    .dataframe thead th {\n",
       "        text-align: right;\n",
       "    }\n",
       "</style>\n",
       "<table border=\"1\" class=\"dataframe\">\n",
       "  <thead>\n",
       "    <tr style=\"text-align: right;\">\n",
       "      <th></th>\n",
       "      <th>airport-A</th>\n",
       "      <th>number_departures</th>\n",
       "    </tr>\n",
       "  </thead>\n",
       "  <tbody>\n",
       "    <tr>\n",
       "      <th>38</th>\n",
       "      <td>SBGR</td>\n",
       "      <td>104</td>\n",
       "    </tr>\n",
       "    <tr>\n",
       "      <th>13</th>\n",
       "      <td>KMIA</td>\n",
       "      <td>42</td>\n",
       "    </tr>\n",
       "    <tr>\n",
       "      <th>25</th>\n",
       "      <td>SAEZ</td>\n",
       "      <td>41</td>\n",
       "    </tr>\n",
       "    <tr>\n",
       "      <th>54</th>\n",
       "      <td>SBVT</td>\n",
       "      <td>41</td>\n",
       "    </tr>\n",
       "    <tr>\n",
       "      <th>42</th>\n",
       "      <td>SBKP</td>\n",
       "      <td>36</td>\n",
       "    </tr>\n",
       "  </tbody>\n",
       "</table>\n",
       "</div>"
      ],
      "text/plain": [
       "   airport-A  number_departures\n",
       "38      SBGR                104\n",
       "13      KMIA                 42\n",
       "25      SAEZ                 41\n",
       "54      SBVT                 41\n",
       "42      SBKP                 36"
      ]
     },
     "execution_count": 11,
     "metadata": {},
     "output_type": "execute_result"
    }
   ],
   "source": [
    "df_departures.head()"
   ]
  },
  {
   "cell_type": "code",
   "execution_count": 1,
   "metadata": {},
   "outputs": [],
   "source": [
    "# sns.countplot(x=\"airport-A\", data=df_departures, palette=\"Greens_d\")"
   ]
  },
  {
   "cell_type": "code",
   "execution_count": null,
   "metadata": {},
   "outputs": [],
   "source": [
    "# Make a fake dataset:\n",
    "height = [3, 12, 5, 18, 45]\n",
    "bars = ('A', 'B', 'C', 'D', 'E')\n",
    "y_pos = np.arange(len(bars))\n",
    " \n",
    "# Create bars\n",
    "plt.bar(y_pos, height)\n",
    " \n",
    "# Create names on the x-axis\n",
    "plt.xticks(y_pos, bars)\n"
   ]
  },
  {
   "cell_type": "markdown",
   "metadata": {},
   "source": [
    "### 2 - Local airports (list with all the ~600 brazilian public airports)\n",
    "\n",
    "Source: https://goo.gl/mNFuPt (a XLS spreadsheet in portuguese; last access on nov, 15th, 2017)"
   ]
  },
  {
   "cell_type": "code",
   "execution_count": null,
   "metadata": {},
   "outputs": [],
   "source": [
    "# Airports dataset: all brazilian public airports (updated until october, 2017)\n",
    "airports = pd.read_csv('data/brazilianPublicAirports-out2017.csv', sep = ';', dtype= str)"
   ]
  },
  {
   "cell_type": "code",
   "execution_count": null,
   "metadata": {},
   "outputs": [],
   "source": [
    "airports.head()"
   ]
  },
  {
   "cell_type": "code",
   "execution_count": null,
   "metadata": {},
   "outputs": [],
   "source": [
    "# Merge \"flights\" dataset with \"airports\" in order to identify \n",
    "#   local flights (origin and destination are in Brazil)\n",
    "flights = pd.merge(flights, airports, left_on=\"airport-A\", right_on=\"airport\", how='left')\n",
    "flights = pd.merge(flights, airports, left_on=\"airport-B\", right_on=\"airport\", how='left')"
   ]
  },
  {
   "cell_type": "code",
   "execution_count": null,
   "metadata": {},
   "outputs": [],
   "source": [
    "flights.tail()"
   ]
  },
  {
   "cell_type": "markdown",
   "metadata": {},
   "source": [
    "### 3 - List of codes (two letters) used when there was a flight delay (departure)\n",
    "I have found two lists that define two-letter codes used by the aircraft crew to justify the delay of the flights: a short and a long one.\n",
    "\n",
    "Source: https://goo.gl/vUC8BX (last access: nov, 15th, 2017)\n"
   ]
  },
  {
   "cell_type": "code",
   "execution_count": null,
   "metadata": {},
   "outputs": [],
   "source": [
    "# ------------------------------------------------------------------\n",
    "# List of codes (two letters) used to justify a delay on the flight\n",
    "# - delayCodesShortlist.csv: list with YYY codes\n",
    "# - delayCodesLongList.csv: list with XXX codes\n",
    "# ------------------------------------------------------------------\n",
    "delaycodes = pd.read_csv('data/delayCodesShortlist.csv', sep = ';', dtype = str)\n",
    "delaycodesLongList = pd.read_csv('data/delayCodesLonglist.csv', sep = ';', dtype = str)"
   ]
  },
  {
   "cell_type": "code",
   "execution_count": null,
   "metadata": {},
   "outputs": [],
   "source": [
    "delaycodes.head()"
   ]
  },
  {
   "cell_type": "markdown",
   "metadata": {},
   "source": [
    "### 4 - The Weather data from https://www.wunderground.com/history\n",
    "\n",
    "From this website I captured a sample data from local airport (Campinas, SP, Brazil): January to September, 2017.\n",
    "\n",
    "The website presents data like this (see [https://goo.gl/oKwzyH](https://goo.gl/oKwzyH)):"
   ]
  },
  {
   "cell_type": "code",
   "execution_count": null,
   "metadata": {},
   "outputs": [],
   "source": [
    "# Weather sample: load the CSV with weather historical data (from Campinas, SP, Brazil, 2017)\n",
    "weather = pd.read_csv('data/DataScience-Intensive-weatherAtCampinasAirport-2017-Campinas_Airport_2017Weather.csv', \\\n",
    "                      sep = ',', dtype = str)"
   ]
  },
  {
   "cell_type": "code",
   "execution_count": null,
   "metadata": {},
   "outputs": [],
   "source": [
    "weather[\"date\"] = weather[\"year\"].map(str) + \"-\" + weather[\"month\"].map(str) + \"-\" + weather[\"day\"].map(str) \n",
    "weather[\"date\"] = pd.to_datetime(weather['date'],errors='ignore')"
   ]
  },
  {
   "cell_type": "code",
   "execution_count": null,
   "metadata": {},
   "outputs": [],
   "source": [
    "weather.head()"
   ]
  },
  {
   "cell_type": "code",
   "execution_count": null,
   "metadata": {},
   "outputs": [],
   "source": []
  }
 ],
 "metadata": {
  "kernelspec": {
   "display_name": "Python 3",
   "language": "python",
   "name": "python3"
  },
  "language_info": {
   "codemirror_mode": {
    "name": "ipython",
    "version": 3
   },
   "file_extension": ".py",
   "mimetype": "text/x-python",
   "name": "python",
   "nbconvert_exporter": "python",
   "pygments_lexer": "ipython3",
   "version": "3.6.3"
  }
 },
 "nbformat": 4,
 "nbformat_minor": 2
}
