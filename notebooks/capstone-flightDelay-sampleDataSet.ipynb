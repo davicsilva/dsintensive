{
 "cells": [
  {
   "cell_type": "markdown",
   "metadata": {},
   "source": [
    "# Capstone Project - Flight Delays\n",
    "# Does weather events have impact the delay of flights (Brazil)?"
   ]
  },
  {
   "cell_type": "markdown",
   "metadata": {},
   "source": [
    "### It is important to see this notebook with the step-by-step of the dataset cleaning process:\n",
    "[https://github.com/davicsilva/dsintensive/blob/master/notebooks/flightDelayPrepData_v2.ipynb](https://github.com/davicsilva/dsintensive/blob/master/notebooks/flightDelayPrepData_v2.ipynb)"
   ]
  },
  {
   "cell_type": "code",
   "execution_count": 1,
   "metadata": {
    "collapsed": true
   },
   "outputs": [],
   "source": [
    "from datetime import datetime\n",
    "\n",
    "# Pandas and NumPy\n",
    "import pandas as pd\n",
    "import numpy as np\n",
    "\n",
    "# Matplotlib for additional customization\n",
    "from matplotlib import pyplot as plt\n",
    "%matplotlib inline\n",
    "\n",
    "# Seaborn for plotting and styling\n",
    "import seaborn as sns"
   ]
  },
  {
   "cell_type": "code",
   "execution_count": 2,
   "metadata": {
    "collapsed": true
   },
   "outputs": [],
   "source": [
    "# 1. Flight delay: any flight with (real_departure - planned_departure >= 15 minutes)\n",
    "# 2. The Brazilian Federal Agency for Civil Aviation (ANAC) does not define exactly what is a \"flight delay\" (in minutes)\n",
    "# 3. Anyway, the ANAC has a resolution for this subject: https://goo.gl/YBwbMy (last access: nov, 15th, 2017)\n",
    "# ---\n",
    "# DELAY, for this analysis, is defined as greater than 15 minutes (local flights only)\n",
    "DELAY = 15"
   ]
  },
  {
   "cell_type": "markdown",
   "metadata": {},
   "source": [
    "### 1 - Dataset: sample of local flights dataset (700 records)"
   ]
  },
  {
   "cell_type": "code",
   "execution_count": 3,
   "metadata": {
    "collapsed": true
   },
   "outputs": [],
   "source": [
    "# Dataset: a sample with 700 records with flights that occurred in the beginning of 2017 (January to June)\n",
    "flights = pd.read_csv('data/arf2017ISO-sample.csv', sep = ';', dtype = str)"
   ]
  },
  {
   "cell_type": "code",
   "execution_count": 4,
   "metadata": {
    "collapsed": true
   },
   "outputs": [],
   "source": [
    "# Using \"lambda\" to format \"date\" columns to ISO format: YYYY-MM-DD hh:mm:ss\n",
    "flights['departure-est'] = flights[['departure-est']].apply(lambda row: row.str.replace(\"(?P<day>\\d{2})/(?P<month>\\d{2})/(?P<year>\\d{4}) (?P<HOUR>\\d{2}):(?P<MIN>\\d{2})\", \"\\g<year>/\\g<month>/\\g<day> \\g<HOUR>:\\g<MIN>:00\"), axis=1)\n",
    "flights['departure-real'] = flights[['departure-real']].apply(lambda row: row.str.replace(\"(?P<day>\\d{2})/(?P<month>\\d{2})/(?P<year>\\d{4}) (?P<HOUR>\\d{2}):(?P<MIN>\\d{2})\", \"\\g<year>/\\g<month>/\\g<day> \\g<HOUR>:\\g<MIN>:00\"), axis=1)\n",
    "flights['arrival-est'] = flights[['arrival-est']].apply(lambda row: row.str.replace(\"(?P<day>\\d{2})/(?P<month>\\d{2})/(?P<year>\\d{4}) (?P<HOUR>\\d{2}):(?P<MIN>\\d{2})\", \"\\g<year>/\\g<month>/\\g<day> \\g<HOUR>:\\g<MIN>:00\"), axis=1)\n",
    "flights['arrival-real'] = flights[['arrival-real']].apply(lambda row: row.str.replace(\"(?P<day>\\d{2})/(?P<month>\\d{2})/(?P<year>\\d{4}) (?P<HOUR>\\d{2}):(?P<MIN>\\d{2})\", \"\\g<year>/\\g<month>/\\g<day> \\g<HOUR>:\\g<MIN>:00\"), axis=1)"
   ]
  },
  {
   "cell_type": "code",
   "execution_count": 5,
   "metadata": {
    "collapsed": true
   },
   "outputs": [],
   "source": [
    "# Departure and Arrival columns: from 'object' to 'date' format\n",
    "flights['departure-est'] = pd.to_datetime(flights['departure-est'],errors='ignore')\n",
    "flights['departure-real'] = pd.to_datetime(flights['departure-real'],errors='ignore')\n",
    "flights['arrival-est'] = pd.to_datetime(flights['arrival-est'],errors='ignore')\n",
    "flights['arrival-real'] = pd.to_datetime(flights['arrival-real'],errors='ignore')"
   ]
  },
  {
   "cell_type": "code",
   "execution_count": 6,
   "metadata": {
    "collapsed": true
   },
   "outputs": [],
   "source": [
    "# translate the flight status from portuguese to english\n",
    "flights['flight-status'] = flights[['flight-status']].apply(lambda row: row.str.replace(\"REALIZADO\", \"ACCOMPLISHED\"), axis=1)\n",
    "flights['flight-status'] = flights[['flight-status']].apply(lambda row: row.str.replace(\"CANCELADO\", \"CANCELED\"), axis=1)"
   ]
  },
  {
   "cell_type": "code",
   "execution_count": 7,
   "metadata": {},
   "outputs": [
    {
     "data": {
      "text/html": [
       "<div>\n",
       "<style>\n",
       "    .dataframe thead tr:only-child th {\n",
       "        text-align: right;\n",
       "    }\n",
       "\n",
       "    .dataframe thead th {\n",
       "        text-align: left;\n",
       "    }\n",
       "\n",
       "    .dataframe tbody tr th {\n",
       "        vertical-align: top;\n",
       "    }\n",
       "</style>\n",
       "<table border=\"1\" class=\"dataframe\">\n",
       "  <thead>\n",
       "    <tr style=\"text-align: right;\">\n",
       "      <th></th>\n",
       "      <th>departure-est</th>\n",
       "      <th>departure-real</th>\n",
       "      <th>arrival-est</th>\n",
       "      <th>arrival-real</th>\n",
       "      <th>flight-status</th>\n",
       "    </tr>\n",
       "  </thead>\n",
       "  <tbody>\n",
       "    <tr>\n",
       "      <th>0</th>\n",
       "      <td>2017-01-02 01:20:00</td>\n",
       "      <td>2017-01-02 01:20:00</td>\n",
       "      <td>2017-01-02 09:00:00</td>\n",
       "      <td>2017-01-02 09:00:00</td>\n",
       "      <td>ACCOMPLISHED</td>\n",
       "    </tr>\n",
       "    <tr>\n",
       "      <th>1</th>\n",
       "      <td>2017-01-24 01:20:00</td>\n",
       "      <td>2017-01-24 01:20:00</td>\n",
       "      <td>2017-01-24 09:00:00</td>\n",
       "      <td>2017-01-24 09:00:00</td>\n",
       "      <td>ACCOMPLISHED</td>\n",
       "    </tr>\n",
       "    <tr>\n",
       "      <th>2</th>\n",
       "      <td>2017-01-29 01:20:00</td>\n",
       "      <td>2017-01-29 01:20:00</td>\n",
       "      <td>2017-01-29 09:00:00</td>\n",
       "      <td>2017-01-29 09:00:00</td>\n",
       "      <td>ACCOMPLISHED</td>\n",
       "    </tr>\n",
       "  </tbody>\n",
       "</table>\n",
       "</div>"
      ],
      "text/plain": [
       "        departure-est      departure-real         arrival-est  \\\n",
       "0 2017-01-02 01:20:00 2017-01-02 01:20:00 2017-01-02 09:00:00   \n",
       "1 2017-01-24 01:20:00 2017-01-24 01:20:00 2017-01-24 09:00:00   \n",
       "2 2017-01-29 01:20:00 2017-01-29 01:20:00 2017-01-29 09:00:00   \n",
       "\n",
       "         arrival-real flight-status  \n",
       "0 2017-01-02 09:00:00  ACCOMPLISHED  \n",
       "1 2017-01-24 09:00:00  ACCOMPLISHED  \n",
       "2 2017-01-29 09:00:00  ACCOMPLISHED  "
      ]
     },
     "execution_count": 7,
     "metadata": {},
     "output_type": "execute_result"
    }
   ],
   "source": [
    "flights[[\"departure-est\", \"departure-real\", \"arrival-est\", \"arrival-real\", \"flight-status\"]].head(3)"
   ]
  },
  {
   "cell_type": "markdown",
   "metadata": {},
   "source": [
    "## Some EDA's tasks"
   ]
  },
  {
   "cell_type": "markdown",
   "metadata": {},
   "source": [
    "### Flights/airports"
   ]
  },
  {
   "cell_type": "code",
   "execution_count": 8,
   "metadata": {
    "collapsed": true
   },
   "outputs": [],
   "source": [
    "# See: https://stackoverflow.com/questions/37287938/sort-pandas-dataframe-by-value \n",
    "# or   https://stackoverflow.com/questions/17618981/how-to-sort-pandas-data-frame-using-values-from-several-columns\n",
    "df_departures = flights.groupby(['airport-A']).size().reset_index(name='number_departures')"
   ]
  },
  {
   "cell_type": "code",
   "execution_count": 9,
   "metadata": {
    "collapsed": true
   },
   "outputs": [],
   "source": [
    "df_departures.sort_values(by=['number_departures'], ascending=False, inplace=True)"
   ]
  },
  {
   "cell_type": "code",
   "execution_count": 10,
   "metadata": {},
   "outputs": [
    {
     "data": {
      "text/html": [
       "<div>\n",
       "<style>\n",
       "    .dataframe thead tr:only-child th {\n",
       "        text-align: right;\n",
       "    }\n",
       "\n",
       "    .dataframe thead th {\n",
       "        text-align: left;\n",
       "    }\n",
       "\n",
       "    .dataframe tbody tr th {\n",
       "        vertical-align: top;\n",
       "    }\n",
       "</style>\n",
       "<table border=\"1\" class=\"dataframe\">\n",
       "  <thead>\n",
       "    <tr style=\"text-align: right;\">\n",
       "      <th></th>\n",
       "      <th>airport-A</th>\n",
       "      <th>number_departures</th>\n",
       "    </tr>\n",
       "  </thead>\n",
       "  <tbody>\n",
       "    <tr>\n",
       "      <th>38</th>\n",
       "      <td>SBGR</td>\n",
       "      <td>104</td>\n",
       "    </tr>\n",
       "    <tr>\n",
       "      <th>13</th>\n",
       "      <td>KMIA</td>\n",
       "      <td>42</td>\n",
       "    </tr>\n",
       "    <tr>\n",
       "      <th>25</th>\n",
       "      <td>SAEZ</td>\n",
       "      <td>41</td>\n",
       "    </tr>\n",
       "    <tr>\n",
       "      <th>54</th>\n",
       "      <td>SBVT</td>\n",
       "      <td>41</td>\n",
       "    </tr>\n",
       "    <tr>\n",
       "      <th>42</th>\n",
       "      <td>SBKP</td>\n",
       "      <td>36</td>\n",
       "    </tr>\n",
       "  </tbody>\n",
       "</table>\n",
       "</div>"
      ],
      "text/plain": [
       "   airport-A  number_departures\n",
       "38      SBGR                104\n",
       "13      KMIA                 42\n",
       "25      SAEZ                 41\n",
       "54      SBVT                 41\n",
       "42      SBKP                 36"
      ]
     },
     "execution_count": 10,
     "metadata": {},
     "output_type": "execute_result"
    }
   ],
   "source": [
    "df_departures.head()"
   ]
  },
  {
   "cell_type": "code",
   "execution_count": 36,
   "metadata": {},
   "outputs": [
    {
     "data": {
      "image/png": "[encoded data removed]",
      "text/plain": [
       "<matplotlib.figure.Figure at 0x1a1e778c18>"
      ]
     },
     "metadata": {},
     "output_type": "display_data"
    }
   ],
   "source": [
    "with sns.axes_style('white'):\n",
    "    g = sns.factorplot(\"airport-A\", data=flights, aspect=2,\n",
    "                       kind=\"count\", color='steelblue')\n",
    "    g.set_xticklabels(step=4)"
   ]
  },
  {
   "cell_type": "code",
   "execution_count": 51,
   "metadata": {},
   "outputs": [
    {
     "data": {
      "image/png": "[encoded data removed]",
      "text/plain": [
       "<matplotlib.figure.Figure at 0x1a1ee88b00>"
      ]
     },
     "metadata": {},
     "output_type": "display_data"
    }
   ],
   "source": [
    "g = sns.factorplot(x=\"airport-A\", y=\"number_departures\", data=df_departures, size=4, aspect=4)"
   ]
  },
  {
   "cell_type": "code",
   "execution_count": 52,
   "metadata": {
    "collapsed": true
   },
   "outputs": [],
   "source": [
    "# Get the hour of 'real depature' datetime\n",
    "# See .dt acessor (http://pandas.pydata.org/pandas-docs/stable/basics.html#basics-dt-accessors)\n",
    "flights['hour-departure-est'] = flights['departure-est'].dt.hour\n",
    "flights['hour-departure-real'] = flights['departure-real'].dt.hour\n",
    "flights['hour-arrival-est'] = flights['arrival-est'].dt.hour\n",
    "flights['hour-arrival-real'] = flights['arrival-real'].dt.hour"
   ]
  },
  {
   "cell_type": "code",
   "execution_count": 53,
   "metadata": {},
   "outputs": [
    {
     "data": {
      "text/plain": [
       "hour-departure-real\n",
       "0.0     10\n",
       "1.0     10\n",
       "2.0     17\n",
       "3.0      6\n",
       "4.0      2\n",
       "5.0      1\n",
       "6.0     12\n",
       "7.0      5\n",
       "8.0      4\n",
       "9.0     17\n",
       "10.0     7\n",
       "11.0     9\n",
       "12.0     4\n",
       "13.0     9\n",
       "14.0     6\n",
       "15.0     5\n",
       "16.0     4\n",
       "17.0    17\n",
       "18.0     9\n",
       "19.0    20\n",
       "20.0    11\n",
       "21.0     1\n",
       "22.0    12\n",
       "23.0    13\n",
       "dtype: int64"
      ]
     },
     "execution_count": 53,
     "metadata": {},
     "output_type": "execute_result"
    }
   ],
   "source": [
    "flights.groupby(['airport-A', 'hour-departure-real']).size().groupby(level=1).max()"
   ]
  },
  {
   "cell_type": "code",
   "execution_count": 54,
   "metadata": {
    "collapsed": true
   },
   "outputs": [],
   "source": [
    "df_busy_hours = flights.groupby(['hour-departure-real']).size().reset_index(name='flight_by_hour')"
   ]
  },
  {
   "cell_type": "code",
   "execution_count": 55,
   "metadata": {
    "collapsed": true
   },
   "outputs": [],
   "source": [
    "df_busy_hours.sort_values(by=['flight_by_hour'], ascending=False, inplace=True)"
   ]
  },
  {
   "cell_type": "code",
   "execution_count": 56,
   "metadata": {},
   "outputs": [
    {
     "data": {
      "text/html": [
       "<div>\n",
       "<style>\n",
       "    .dataframe thead tr:only-child th {\n",
       "        text-align: right;\n",
       "    }\n",
       "\n",
       "    .dataframe thead th {\n",
       "        text-align: left;\n",
       "    }\n",
       "\n",
       "    .dataframe tbody tr th {\n",
       "        vertical-align: top;\n",
       "    }\n",
       "</style>\n",
       "<table border=\"1\" class=\"dataframe\">\n",
       "  <thead>\n",
       "    <tr style=\"text-align: right;\">\n",
       "      <th></th>\n",
       "      <th>hour-departure-real</th>\n",
       "      <th>flight_by_hour</th>\n",
       "    </tr>\n",
       "  </thead>\n",
       "  <tbody>\n",
       "    <tr>\n",
       "      <th>19</th>\n",
       "      <td>19.0</td>\n",
       "      <td>76</td>\n",
       "    </tr>\n",
       "    <tr>\n",
       "      <th>18</th>\n",
       "      <td>18.0</td>\n",
       "      <td>48</td>\n",
       "    </tr>\n",
       "    <tr>\n",
       "      <th>17</th>\n",
       "      <td>17.0</td>\n",
       "      <td>46</td>\n",
       "    </tr>\n",
       "    <tr>\n",
       "      <th>2</th>\n",
       "      <td>2.0</td>\n",
       "      <td>34</td>\n",
       "    </tr>\n",
       "    <tr>\n",
       "      <th>9</th>\n",
       "      <td>9.0</td>\n",
       "      <td>33</td>\n",
       "    </tr>\n",
       "  </tbody>\n",
       "</table>\n",
       "</div>"
      ],
      "text/plain": [
       "    hour-departure-real  flight_by_hour\n",
       "19                 19.0              76\n",
       "18                 18.0              48\n",
       "17                 17.0              46\n",
       "2                   2.0              34\n",
       "9                   9.0              33"
      ]
     },
     "execution_count": 56,
     "metadata": {},
     "output_type": "execute_result"
    }
   ],
   "source": [
    "df_busy_hours.head()"
   ]
  },
  {
   "cell_type": "code",
   "execution_count": 57,
   "metadata": {},
   "outputs": [
    {
     "data": {
      "image/png": "[encoded data removed]",
      "text/plain": [
       "<matplotlib.figure.Figure at 0x1a20b8bac8>"
      ]
     },
     "metadata": {},
     "output_type": "display_data"
    }
   ],
   "source": [
    "g = sns.factorplot(x=\"hour-departure-real\", y=\"flight_by_hour\", data=df_busy_hours, size=6, aspect=1.8)"
   ]
  },
  {
   "cell_type": "code",
   "execution_count": 58,
   "metadata": {},
   "outputs": [
    {
     "data": {
      "image/png": "[encoded data removed]",
      "text/plain": [
       "<matplotlib.figure.Figure at 0x1a1df1d3c8>"
      ]
     },
     "metadata": {},
     "output_type": "display_data"
    }
   ],
   "source": [
    "with sns.axes_style('white'):\n",
    "    g = sns.factorplot(\"hour-departure-real\", data=flights, size=5, aspect=3,\n",
    "                       kind=\"count\", color='steelblue')\n",
    "    g.set_xticklabels(step=1)"
   ]
  },
  {
   "cell_type": "code",
   "execution_count": 109,
   "metadata": {},
   "outputs": [
    {
     "data": {
      "text/html": [
       "<div>\n",
       "<style>\n",
       "    .dataframe thead tr:only-child th {\n",
       "        text-align: right;\n",
       "    }\n",
       "\n",
       "    .dataframe thead th {\n",
       "        text-align: left;\n",
       "    }\n",
       "\n",
       "    .dataframe tbody tr th {\n",
       "        vertical-align: top;\n",
       "    }\n",
       "</style>\n",
       "<table border=\"1\" class=\"dataframe\">\n",
       "  <thead>\n",
       "    <tr style=\"text-align: right;\">\n",
       "      <th></th>\n",
       "      <th>days</th>\n",
       "      <th>hours</th>\n",
       "      <th>minutes</th>\n",
       "      <th>seconds</th>\n",
       "      <th>milliseconds</th>\n",
       "      <th>microseconds</th>\n",
       "      <th>nanoseconds</th>\n",
       "    </tr>\n",
       "  </thead>\n",
       "  <tbody>\n",
       "    <tr>\n",
       "      <th>0</th>\n",
       "      <td>0.0</td>\n",
       "      <td>0.0</td>\n",
       "      <td>0.0</td>\n",
       "      <td>0.0</td>\n",
       "      <td>0.0</td>\n",
       "      <td>0.0</td>\n",
       "      <td>0.0</td>\n",
       "    </tr>\n",
       "    <tr>\n",
       "      <th>1</th>\n",
       "      <td>0.0</td>\n",
       "      <td>0.0</td>\n",
       "      <td>0.0</td>\n",
       "      <td>0.0</td>\n",
       "      <td>0.0</td>\n",
       "      <td>0.0</td>\n",
       "      <td>0.0</td>\n",
       "    </tr>\n",
       "    <tr>\n",
       "      <th>2</th>\n",
       "      <td>0.0</td>\n",
       "      <td>0.0</td>\n",
       "      <td>0.0</td>\n",
       "      <td>0.0</td>\n",
       "      <td>0.0</td>\n",
       "      <td>0.0</td>\n",
       "      <td>0.0</td>\n",
       "    </tr>\n",
       "    <tr>\n",
       "      <th>3</th>\n",
       "      <td>0.0</td>\n",
       "      <td>0.0</td>\n",
       "      <td>0.0</td>\n",
       "      <td>0.0</td>\n",
       "      <td>0.0</td>\n",
       "      <td>0.0</td>\n",
       "      <td>0.0</td>\n",
       "    </tr>\n",
       "    <tr>\n",
       "      <th>4</th>\n",
       "      <td>0.0</td>\n",
       "      <td>0.0</td>\n",
       "      <td>0.0</td>\n",
       "      <td>0.0</td>\n",
       "      <td>0.0</td>\n",
       "      <td>0.0</td>\n",
       "      <td>0.0</td>\n",
       "    </tr>\n",
       "  </tbody>\n",
       "</table>\n",
       "</div>"
      ],
      "text/plain": [
       "   days  hours  minutes  seconds  milliseconds  microseconds  nanoseconds\n",
       "0   0.0    0.0      0.0      0.0           0.0           0.0          0.0\n",
       "1   0.0    0.0      0.0      0.0           0.0           0.0          0.0\n",
       "2   0.0    0.0      0.0      0.0           0.0           0.0          0.0\n",
       "3   0.0    0.0      0.0      0.0           0.0           0.0          0.0\n",
       "4   0.0    0.0      0.0      0.0           0.0           0.0          0.0"
      ]
     },
     "execution_count": 109,
     "metadata": {},
     "output_type": "execute_result"
    }
   ],
   "source": [
    "(flights['departure-real'] - flights['departure-est']).dt.components.head()"
   ]
  },
  {
   "cell_type": "code",
   "execution_count": 108,
   "metadata": {},
   "outputs": [],
   "source": [
    "# Get the delta time (real - estimated) for depature and arrival times\n",
    "# More about 'DateTime' at https://docs.scipy.org/doc/numpy-dev/reference/arrays.datetime.html#datetime-and-timedelta-arithmetic \n",
    "flights['delay-departure']=(flights['departure-real'] - flights['departure-est'])\n",
    "flights['delay-arrival']=(flights['arrival-real'] - flights['arrival-est'])\n",
    "\n",
    "# Delay (departure and arrival) in minutes (using 'numpy.timedelta64')\n",
    "# See this link: https://stackoverflow.com/questions/14920903/time-difference-in-seconds-from-numpy-timedelta64\n",
    "flights['delay-departure']=np.divide(flights[['delay-departure']], np.timedelta64(1, 'm'))\n",
    "flights['delay-arrival']=np.divide(flights[['delay-arrival']], np.timedelta64(1, 'm'))"
   ]
  },
  {
   "cell_type": "code",
   "execution_count": 114,
   "metadata": {},
   "outputs": [
    {
     "data": {
      "image/png": "[encoded data removed]",
      "text/plain": [
       "<matplotlib.figure.Figure at 0x1a20b96908>"
      ]
     },
     "metadata": {},
     "output_type": "display_data"
    }
   ],
   "source": [
    "sns.kdeplot(flights['delay-departure'] > 0, label='departures(delay)', shade=True)\n",
    "plt.xlabel('delay (in minutes)');"
   ]
  },
  {
   "cell_type": "markdown",
   "metadata": {},
   "source": [
    "### 2 - Local airports (list with all the ~600 brazilian public airports)\n",
    "\n",
    "Source: https://goo.gl/mNFuPt (a XLS spreadsheet in portuguese; last access on nov, 15th, 2017)"
   ]
  },
  {
   "cell_type": "code",
   "execution_count": null,
   "metadata": {
    "collapsed": true
   },
   "outputs": [],
   "source": []
  },
  {
   "cell_type": "code",
   "execution_count": null,
   "metadata": {
    "collapsed": true
   },
   "outputs": [],
   "source": [
    "# Airports dataset: all brazilian public airports (updated until october, 2017)\n",
    "airports = pd.read_csv('data/brazilianPublicAirports-out2017.csv', sep = ';', dtype= str)"
   ]
  },
  {
   "cell_type": "code",
   "execution_count": null,
   "metadata": {},
   "outputs": [],
   "source": [
    "airports.head()"
   ]
  },
  {
   "cell_type": "code",
   "execution_count": null,
   "metadata": {
    "collapsed": true
   },
   "outputs": [],
   "source": [
    "# Merge \"flights\" dataset with \"airports\" in order to identify \n",
    "#   local flights (origin and destination are in Brazil)\n",
    "flights = pd.merge(flights, airports, left_on=\"airport-A\", right_on=\"airport\", how='left')\n",
    "flights = pd.merge(flights, airports, left_on=\"airport-B\", right_on=\"airport\", how='left')"
   ]
  },
  {
   "cell_type": "code",
   "execution_count": null,
   "metadata": {},
   "outputs": [],
   "source": [
    "with sns.axes_style('white'):\n",
    "    g = sns.factorplot(\"airport-A\", data=flights, aspect=2,\n",
    "                       kind=\"count\", color='steelblue')\n",
    "    g.set_xticklabels(step=5)"
   ]
  },
  {
   "cell_type": "markdown",
   "metadata": {},
   "source": [
    "### 3 - List of codes (two letters) used when there was a flight delay (departure)\n",
    "I have found two lists that define two-letter codes used by the aircraft crew to justify the delay of the flights: a short and a long one.\n",
    "\n",
    "Source: https://goo.gl/vUC8BX (last access: nov, 15th, 2017)\n"
   ]
  },
  {
   "cell_type": "code",
   "execution_count": null,
   "metadata": {
    "collapsed": true
   },
   "outputs": [],
   "source": [
    "# ------------------------------------------------------------------\n",
    "# List of codes (two letters) used to justify a delay on the flight\n",
    "# - delayCodesShortlist.csv: list with YYY codes\n",
    "# - delayCodesLongList.csv: list with XXX codes\n",
    "# ------------------------------------------------------------------\n",
    "delaycodes = pd.read_csv('data/delayCodesShortlist.csv', sep = ';', dtype = str)\n",
    "delaycodesLongList = pd.read_csv('data/delayCodesLonglist.csv', sep = ';', dtype = str)"
   ]
  },
  {
   "cell_type": "code",
   "execution_count": null,
   "metadata": {},
   "outputs": [],
   "source": [
    "delaycodes.head()"
   ]
  },
  {
   "cell_type": "markdown",
   "metadata": {},
   "source": [
    "### 4 - The Weather data from https://www.wunderground.com/history\n",
    "\n",
    "From this website I captured a sample data from local airport (Campinas, SP, Brazil): January to September, 2017.\n",
    "\n",
    "The website presents data like this (see [https://goo.gl/oKwzyH](https://goo.gl/oKwzyH)):"
   ]
  },
  {
   "cell_type": "code",
   "execution_count": null,
   "metadata": {
    "collapsed": true
   },
   "outputs": [],
   "source": [
    "# Weather sample: load the CSV with weather historical data (from Campinas, SP, Brazil, 2017)\n",
    "weather = pd.read_csv('data/DataScience-Intensive-weatherAtCampinasAirport-2017-Campinas_Airport_2017Weather.csv', \\\n",
    "                      sep = ',', dtype = str)"
   ]
  },
  {
   "cell_type": "code",
   "execution_count": null,
   "metadata": {
    "collapsed": true
   },
   "outputs": [],
   "source": [
    "weather[\"date\"] = weather[\"year\"].map(str) + \"-\" + weather[\"month\"].map(str) + \"-\" + weather[\"day\"].map(str) \n",
    "weather[\"date\"] = pd.to_datetime(weather['date'],errors='ignore')"
   ]
  },
  {
   "cell_type": "code",
   "execution_count": null,
   "metadata": {},
   "outputs": [],
   "source": [
    "weather.head()"
   ]
  },
  {
   "cell_type": "code",
   "execution_count": null,
   "metadata": {
    "collapsed": true
   },
   "outputs": [],
   "source": []
  }
 ],
 "metadata": {
  "kernelspec": {
   "display_name": "Python 3",
   "language": "python",
   "name": "python3"
  },
  "language_info": {
   "codemirror_mode": {
    "name": "ipython",
    "version": 3
   },
   "file_extension": ".py",
   "mimetype": "text/x-python",
   "name": "python",
   "nbconvert_exporter": "python",
   "pygments_lexer": "ipython3",
   "version": "3.6.3"
  }
 },
 "nbformat": 4,
 "nbformat_minor": 2
}
