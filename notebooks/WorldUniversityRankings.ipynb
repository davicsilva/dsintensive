{
 "cells": [
  {
   "cell_type": "markdown",
   "metadata": {},
   "source": [
    "# World University Rankings\n",
    "\n",
    "We can find, at least, three global university rankings with different methodologies to classify the better schools:\n",
    "\n",
    "1. The _Times Higher Education World University Ranking_: [https://www.timeshighereducation.com/world-university-rankings](https://www.timeshighereducation.com/world-university-rankings)\n",
    "2. The _Academic Ranking of World Universities_: [http://www.shanghairanking.com/](http://www.shanghairanking.com/)\n",
    "3. The _Center for World University Rankings_: [http://cwur.org/](http://cwur.org/)"
   ]
  },
  {
   "cell_type": "markdown",
   "metadata": {},
   "source": [
    "## 1. The Times Higher Education World University Ranking (Times)\n",
    "\n",
    "The **Times** World University Ranking:\n",
    "\n",
    "| Year | Link (website) |\n",
    "| ---- | :------  |\n",
    "| 2018  | [https://www.timeshighereducation.com/world-university-rankings/2018/world-ranking#!/page/0/length/-1/sort_by/rank/sort_order/asc/cols/stats](https://www.timeshighereducation.com/world-university-rankings/2018/world-ranking#!/page/0/length/-1/sort_by/rank/sort_order/asc/cols/stats) | \n",
    "| 2017  | [https://www.timeshighereducation.com/world-university-rankings/2017/world-ranking#!/page/0/length/-1/sort_by/rank/sort_order/asc/cols/stats](https://www.timeshighereducation.com/world-university-rankings/2017/world-ranking#!/page/0/length/-1/sort_by/rank/sort_order/asc/cols/stats)  | \n",
    "| 2016  |  |\n",
    "| 2015  |  |\n",
    "| 2014  |  |\n",
    "| 2013  |  |\n",
    "| 2012  |  |\n"
   ]
  },
  {
   "cell_type": "markdown",
   "metadata": {},
   "source": [
    "## 2. The Academic Ranking of World Universities (China)\n",
    "\n",
    "The **China** World University Ranking:\n",
    "\n",
    "| Year | Link (website)  |\n",
    "| :---- | :-------------- |\n",
    "| 2017 | [http://www.shanghairanking.com/ARWU2017.html](http://www.shanghairanking.com/ARWU2017.html) |\n",
    "| 2016 | [http://www.shanghairanking.com/ARWU2016.html](http://www.shanghairanking.com/ARWU2016.html) |\n",
    "| 2015 | [http://www.shanghairanking.com/ARWU2015.html](http://www.shanghairanking.com/ARWU2015.html) |\n",
    "| 2014 | [http://www.shanghairanking.com/ARWU2014.html](http://www.shanghairanking.com/ARWU2014.html) |\n",
    "| 2013 | [http://www.shanghairanking.com/ARWU2013.html](http://www.shanghairanking.com/ARWU2013.html) |\n",
    "| 2012 | [http://www.shanghairanking.com/ARWU2012.html](http://www.shanghairanking.com/ARWU2012.html) |\n"
   ]
  },
  {
   "cell_type": "markdown",
   "metadata": {},
   "source": [
    "## 3. The Center for World University Rankings (CWUR)\n",
    "\n",
    "The **CWUR** World University Ranking:\n",
    "\n",
    "| Year | Link (website)  |\n",
    "| :---- | :-------------- |\n",
    "| 2016 | [http://cwur.org/2016.php](http://cwur.org/2016.php) |\n",
    "| 2015 | [http://cwur.org/2015.php](http://cwur.org/2015.php) |\n",
    "| 2014 | [http://cwur.org/2014.php](http://cwur.org/2014.php) |\n",
    "| 2013 | [http://cwur.org/2013.php](http://cwur.org/2013.php) |\n",
    "| 2012 | [http://cwur.org/2012.php](http://cwur.org/2012.php) |\n"
   ]
  },
  {
<<<<<<< HEAD
   "cell_type": "markdown",
   "metadata": {},
   "source": [
    "### 3.1 CWUR, 2016 DataSet"
   ]
  },
  {
=======
>>>>>>> 490801097baf7c306be34770420f3df8921bfb91
   "cell_type": "code",
   "execution_count": null,
   "metadata": {
    "collapsed": true
   },
   "outputs": [],
   "source": []
  }
 ],
 "metadata": {
  "kernelspec": {
   "display_name": "Python 3",
   "language": "python",
   "name": "python3"
  },
  "language_info": {
   "codemirror_mode": {
    "name": "ipython",
    "version": 3
   },
   "file_extension": ".py",
   "mimetype": "text/x-python",
   "name": "python",
   "nbconvert_exporter": "python",
   "pygments_lexer": "ipython3",
   "version": "3.6.1"
  }
 },
 "nbformat": 4,
 "nbformat_minor": 2
}
