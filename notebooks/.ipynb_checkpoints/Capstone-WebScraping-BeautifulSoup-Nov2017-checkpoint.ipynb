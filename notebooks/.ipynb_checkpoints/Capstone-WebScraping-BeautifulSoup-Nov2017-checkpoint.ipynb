{
 "cells": [
  {
   "cell_type": "markdown",
   "metadata": {},
   "source": [
    "# Weather data: web Scraping with BeautifulSoup\n",
    "### Capstone Project (Springboard Data Intensive course)\n",
    "Source (web page with data): https://www.wunderground.com/history/airport/ \n",
    "\n",
    "Last access: nov, 2017"
   ]
  },
  {
   "cell_type": "code",
   "execution_count": 2,
   "metadata": {},
   "outputs": [],
   "source": [
    "import requests\n",
    "from bs4 import BeautifulSoup\n",
    "import pandas as pd\n",
    "import re"
   ]
  },
  {
   "cell_type": "code",
   "execution_count": 3,
   "metadata": {},
   "outputs": [],
   "source": [
    "# This example gets the data from Campinas  Airport (São Paulo, Brazil)\n",
    "# on Jan, 1st, 2017.\n",
    "# The historical data provided by Wundergrund website has URLs formation like this:\n",
    "# -------------------------------------------------------------------------------------------------\n",
    "# \"https://www.wunderground.com/history/airport/<airport_4leters_code>/\n",
    "#                                       <YYYY>/<MONTH>/<DAY>/DailyHistory.html\"\n",
    "# -------------------------------------------------------------------------------------------------                                             \n",
    "page = requests.get(\"https://www.wunderground.com/history/airport/SBKP/2017/1/1/DailyHistory.html\")"
   ]
  },
  {
   "cell_type": "code",
   "execution_count": 4,
   "metadata": {},
   "outputs": [
    {
     "data": {
      "text/plain": [
       "200"
      ]
     },
     "execution_count": 4,
     "metadata": {},
     "output_type": "execute_result"
    }
   ],
   "source": [
    "# Test if content of the webpage was available (return code = 200)\n",
    "page.status_code"
   ]
  },
  {
   "cell_type": "code",
   "execution_count": 5,
   "metadata": {},
   "outputs": [],
   "source": [
    "soup = BeautifulSoup(page.content, \"html.parser\")"
   ]
  },
  {
   "cell_type": "code",
   "execution_count": 6,
   "metadata": {},
   "outputs": [],
   "source": [
    "# Just if case: if it is necessary to save as a file\n",
    "# with open(\"html.parser\", \"w\") as file:\n",
    "#    file.write(str(soup))"
   ]
  },
  {
   "cell_type": "markdown",
   "metadata": {},
   "source": [
    "### Get weather data from a HTML table "
   ]
  },
  {
   "cell_type": "code",
   "execution_count": 7,
   "metadata": {},
   "outputs": [],
   "source": [
    "weather_cols = ['hour', 'tempC', 'index-hot', 'dew-point', 'humidity-perc',\\\n",
    "                'atm-press', 'visibility', 'wind-dir', 'wind-speed', \\\n",
    "                'wind-highest-speed', 'precip', 'weather-events', \\\n",
    "                'weather-overall-conditions']"
   ]
  },
  {
   "cell_type": "code",
   "execution_count": 8,
   "metadata": {},
   "outputs": [],
   "source": [
    "table = soup.find(class_=\"high-res\")"
   ]
  },
  {
   "cell_type": "code",
   "execution_count": 9,
   "metadata": {},
   "outputs": [],
   "source": [
    "tr = table.find_all(\"tr\")\n",
    "td = table.find_all(\"td\")"
   ]
  },
  {
   "cell_type": "code",
   "execution_count": 10,
   "metadata": {},
   "outputs": [],
   "source": [
    "weather_data_day  = []\n",
    "weather_data_hour = []\n",
    "for row in td:\n",
    "    row = row.get_text()\n",
    "    if ('12:00 AM' in row):\n",
    "        weather_data_hour.append(row)\n",
    "    elif (('AM' in row) | ('PM' in row)):\n",
    "        weather_data_day.append(weather_data_hour)\n",
    "        weather_data_hour = []\n",
    "        weather_data_hour.append(row)\n",
    "    else:\n",
    "        weather_data_hour.append(row)\n",
    "    "
   ]
  },
  {
   "cell_type": "code",
   "execution_count": 11,
   "metadata": {},
   "outputs": [],
   "source": [
    "df = pd.DataFrame(weather_data_day, columns = weather_cols)"
   ]
  },
  {
   "cell_type": "code",
   "execution_count": 12,
   "metadata": {},
   "outputs": [],
   "source": [
    "df = df.astype(str)"
   ]
  },
  {
   "cell_type": "code",
   "execution_count": 14,
   "metadata": {},
   "outputs": [],
   "source": [
    "df= df.apply(lambda row: row.str.replace(\"\\n\", \"\"), axis=1)\n",
    "df= df.apply(lambda row: row.str.replace(\"\\t\", \" \"), axis=1)"
   ]
  },
  {
   "cell_type": "code",
   "execution_count": 15,
   "metadata": {},
   "outputs": [
    {
     "data": {
      "text/html": [
       "<div>\n",
       "<style scoped>\n",
       "    .dataframe tbody tr th:only-of-type {\n",
       "        vertical-align: middle;\n",
       "    }\n",
       "\n",
       "    .dataframe tbody tr th {\n",
       "        vertical-align: top;\n",
       "    }\n",
       "\n",
       "    .dataframe thead th {\n",
       "        text-align: right;\n",
       "    }\n",
       "</style>\n",
       "<table border=\"1\" class=\"dataframe\">\n",
       "  <thead>\n",
       "    <tr style=\"text-align: right;\">\n",
       "      <th></th>\n",
       "      <th>hour</th>\n",
       "      <th>tempC</th>\n",
       "      <th>index-hot</th>\n",
       "      <th>dew-point</th>\n",
       "      <th>humidity-perc</th>\n",
       "      <th>atm-press</th>\n",
       "      <th>visibility</th>\n",
       "      <th>wind-dir</th>\n",
       "      <th>wind-speed</th>\n",
       "      <th>wind-highest-speed</th>\n",
       "      <th>precip</th>\n",
       "      <th>weather-events</th>\n",
       "      <th>weather-overall-conditions</th>\n",
       "    </tr>\n",
       "  </thead>\n",
       "  <tbody>\n",
       "    <tr>\n",
       "      <th>0</th>\n",
       "      <td>12:00 AM</td>\n",
       "      <td>24.0 °C</td>\n",
       "      <td>-</td>\n",
       "      <td>12.0 °C</td>\n",
       "      <td>47%</td>\n",
       "      <td>1016 hPa</td>\n",
       "      <td>-</td>\n",
       "      <td>NW</td>\n",
       "      <td>7.4 km/h  / 2.1 m/s</td>\n",
       "      <td>-</td>\n",
       "      <td>N/A</td>\n",
       "      <td></td>\n",
       "      <td>Clear</td>\n",
       "    </tr>\n",
       "    <tr>\n",
       "      <th>1</th>\n",
       "      <td>1:00 AM</td>\n",
       "      <td>23.0 °C</td>\n",
       "      <td>-</td>\n",
       "      <td>13.0 °C</td>\n",
       "      <td>53%</td>\n",
       "      <td>1016 hPa</td>\n",
       "      <td>-</td>\n",
       "      <td>NE</td>\n",
       "      <td>7.4 km/h  / 2.1 m/s</td>\n",
       "      <td>-</td>\n",
       "      <td>N/A</td>\n",
       "      <td></td>\n",
       "      <td>Clear</td>\n",
       "    </tr>\n",
       "    <tr>\n",
       "      <th>2</th>\n",
       "      <td>2:00 AM</td>\n",
       "      <td>23.0 °C</td>\n",
       "      <td>-</td>\n",
       "      <td>15.0 °C</td>\n",
       "      <td>61%</td>\n",
       "      <td>1015 hPa</td>\n",
       "      <td>-</td>\n",
       "      <td>East</td>\n",
       "      <td>3.7 km/h  / 1.0 m/s</td>\n",
       "      <td>-</td>\n",
       "      <td>N/A</td>\n",
       "      <td></td>\n",
       "      <td>Clear</td>\n",
       "    </tr>\n",
       "    <tr>\n",
       "      <th>3</th>\n",
       "      <td>3:00 AM</td>\n",
       "      <td>22.0 °C</td>\n",
       "      <td>-</td>\n",
       "      <td>19.0 °C</td>\n",
       "      <td>83%</td>\n",
       "      <td>1015 hPa</td>\n",
       "      <td>-</td>\n",
       "      <td>Calm</td>\n",
       "      <td>Calm</td>\n",
       "      <td>-</td>\n",
       "      <td>N/A</td>\n",
       "      <td></td>\n",
       "      <td>Clear</td>\n",
       "    </tr>\n",
       "    <tr>\n",
       "      <th>4</th>\n",
       "      <td>4:00 AM</td>\n",
       "      <td>22.0 °C</td>\n",
       "      <td>-</td>\n",
       "      <td>19.0 °C</td>\n",
       "      <td>83%</td>\n",
       "      <td>1015 hPa</td>\n",
       "      <td>-</td>\n",
       "      <td>ENE</td>\n",
       "      <td>3.7 km/h  / 1.0 m/s</td>\n",
       "      <td>-</td>\n",
       "      <td>N/A</td>\n",
       "      <td></td>\n",
       "      <td>Clear</td>\n",
       "    </tr>\n",
       "  </tbody>\n",
       "</table>\n",
       "</div>"
      ],
      "text/plain": [
       "       hour    tempC index-hot dew-point humidity-perc atm-press visibility  \\\n",
       "0  12:00 AM  24.0 °C         -   12.0 °C           47%  1016 hPa          -   \n",
       "1   1:00 AM  23.0 °C         -   13.0 °C           53%  1016 hPa          -   \n",
       "2   2:00 AM  23.0 °C         -   15.0 °C           61%  1015 hPa          -   \n",
       "3   3:00 AM  22.0 °C         -   19.0 °C           83%  1015 hPa          -   \n",
       "4   4:00 AM  22.0 °C         -   19.0 °C           83%  1015 hPa          -   \n",
       "\n",
       "  wind-dir           wind-speed wind-highest-speed precip weather-events  \\\n",
       "0       NW  7.4 km/h  / 2.1 m/s                  -    N/A                  \n",
       "1       NE  7.4 km/h  / 2.1 m/s                  -    N/A                  \n",
       "2     East  3.7 km/h  / 1.0 m/s                  -    N/A                  \n",
       "3     Calm                 Calm                  -    N/A                  \n",
       "4      ENE  3.7 km/h  / 1.0 m/s                  -    N/A                  \n",
       "\n",
       "  weather-overall-conditions  \n",
       "0                      Clear  \n",
       "1                      Clear  \n",
       "2                      Clear  \n",
       "3                      Clear  \n",
       "4                      Clear  "
      ]
     },
     "execution_count": 15,
     "metadata": {},
     "output_type": "execute_result"
    }
   ],
   "source": [
    "df.head()"
   ]
  },
  {
   "cell_type": "code",
   "execution_count": 16,
   "metadata": {},
   "outputs": [
    {
     "data": {
      "text/plain": [
       "0     12:00 AM\n",
       "1      1:00 AM\n",
       "2      2:00 AM\n",
       "3      3:00 AM\n",
       "4      4:00 AM\n",
       "5      5:00 AM\n",
       "6      6:00 AM\n",
       "7      7:00 AM\n",
       "8      8:00 AM\n",
       "9      9:00 AM\n",
       "10    10:00 AM\n",
       "11    11:00 AM\n",
       "12    12:00 PM\n",
       "13     1:00 PM\n",
       "14     2:00 PM\n",
       "15     3:00 PM\n",
       "16     4:00 PM\n",
       "17     4:29 PM\n",
       "18     5:00 PM\n",
       "19     6:00 PM\n",
       "20     6:08 PM\n",
       "21     6:34 PM\n",
       "22     7:00 PM\n",
       "23     8:00 PM\n",
       "24     9:00 PM\n",
       "25    10:00 PM\n",
       "Name: hour, dtype: object"
      ]
     },
     "execution_count": 16,
     "metadata": {},
     "output_type": "execute_result"
    }
   ],
   "source": [
    "df['hour']"
   ]
  },
  {
   "cell_type": "code",
   "execution_count": null,
   "metadata": {},
   "outputs": [],
   "source": []
  }
 ],
 "metadata": {
  "kernelspec": {
   "display_name": "Python 3",
   "language": "python",
   "name": "python3"
  }
 },
 "nbformat": 4,
 "nbformat_minor": 2
}
